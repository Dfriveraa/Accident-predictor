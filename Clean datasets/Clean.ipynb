{
 "cells": [
  {
   "cell_type": "markdown",
   "source": [
    "#### En este módulo se realiza la limpieza de datos y se exportan dentro de este mismo directorio \"Clean datasets\""
   ],
   "metadata": {
    "collapsed": false,
    "pycharm": {
     "name": "#%% md\n"
    }
   }
  },
  {
   "cell_type": "code",
   "execution_count": 2,
   "outputs": [],
   "source": [
    "import pandas as pd\n",
    "data_2017=pd.read_csv(\"../Dirt_datasets/Accidentalidad_georreferenciada_2017.csv\")\n",
    "data_2018=pd.read_csv(\"../Dirt_datasets/Accidentalidad_georreferenciada_2018.csv\")\n",
    "data_2019=pd.read_csv(\"../Dirt_datasets/Accidentalidad_georreferenciada_2019.csv\")"
   ],
   "metadata": {
    "collapsed": false,
    "pycharm": {
     "name": "#%%\n"
    }
   }
  },
  {
   "cell_type": "markdown",
   "source": [
    "Se verifica que hayan cargado correctamente y que contengan las mismas columnas"
   ],
   "metadata": {
    "collapsed": false,
    "pycharm": {
     "name": "#%% md\n"
    }
   }
  },
  {
   "cell_type": "code",
   "source": [
    "datalist=[data_2017,data_2018,data_2019]\n",
    "for data in datalist:\n",
    "    print(data.columns.values)\n",
    "print(datalist[1].head())"
   ],
   "metadata": {
    "collapsed": false,
    "pycharm": {
     "name": "#%%\n"
    }
   },
   "execution_count": 2,
   "outputs": [
    {
     "name": "stdout",
     "output_type": "stream",
     "text": [
      "['X' 'Y' 'OBJECTID' 'RADICADO' 'HORA' 'DIA_NOMBRE' 'PERIODO' 'CLASE'\n",
      " 'DIRECCION' 'DIRECCION_ENC' 'CBML' 'TIPO_GEOCOD' 'GRAVEDAD' 'BARRIO'\n",
      " 'COMUNA' 'DISENO' 'MES' 'DIA' 'FECHA' 'MES_NOMBRE']\n",
      "['X' 'Y' 'OBJECTID' 'RADICADO' 'HORA' 'DIA_NOMBRE' 'PERIODO' 'CLASE'\n",
      " 'DIRECCION' 'DIRECCION_ENC' 'CBML' 'TIPO_GEOCOD' 'GRAVEDAD' 'BARRIO'\n",
      " 'COMUNA' 'DISENO' 'MES' 'DIA' 'FECHA' 'MES_NOMBRE' 'X_MAGNAMED'\n",
      " 'Y_MAGNAMED' 'LONGITUD' 'LATITUD']\n",
      "['X' 'Y' 'OBJECTID' 'RADICADO' 'HORA' 'DIA_NOMBRE' 'PERIODO' 'CLASE'\n",
      " 'DIRECCION' 'DIRECCION_ENC' 'CBML' 'TIPO_GEOCOD' 'GRAVEDAD' 'BARRIO'\n",
      " 'COMUNA' 'DISENO' 'MES' 'DIA' 'FECHA' 'MES_NOMBRE']\n",
      "           X         Y  OBJECTID   RADICADO      HORA DIA_NOMBRE  PERIODO  \\\n",
      "0 -75.584608  6.261152    550556  1612819.0  01:30 PM  DOMINGO       2018   \n",
      "1 -75.582266  6.293102    550557  1612866.0  01:30 PM  DOMINGO       2018   \n",
      "2 -75.560337  6.252080    550558  1612809.0  02:30 PM  DOMINGO       2018   \n",
      "3 -75.597828  6.222382    550559  1612812.0  02:30 PM  DOMINGO       2018   \n",
      "4 -75.561804  6.236754    550560  1612817.0  02:37 PM  DOMINGO       2018   \n",
      "\n",
      "            CLASE    DIRECCION             DIRECCION_ENC  ...  \\\n",
      "0          Choque  CR 70 CL 55  CR  070   055  000 00000  ...   \n",
      "1          Choque  CR 79 CL 95  CR  079   095  000 00000  ...   \n",
      "2  Caida Ocupante  CR 43 CL 57  CR  043   057  000 00000  ...   \n",
      "3            Otro  CR 76 CL 16  CR  076   016  000 00000  ...   \n",
      "4          Choque  CR 36 CL 39  CR  036   039  000 00000  ...   \n",
      "\n",
      "             COMUNA        DISENO MES DIA                     FECHA  \\\n",
      "0  Laureles Estadio  Interseccion   1  14  2018-01-14T00:00:00.000Z   \n",
      "1   Doce de Octubre  Tramo de via   1  14  2018-01-14T00:00:00.000Z   \n",
      "2     La Candelaria  Tramo de via   1  14  2018-01-14T00:00:00.000Z   \n",
      "3             Belén  Interseccion   1  14  2018-01-14T00:00:00.000Z   \n",
      "4      Buenos Aires  Tramo de via   1  14  2018-01-14T00:00:00.000Z   \n",
      "\n",
      "  MES_NOMBRE  X_MAGNAMED  Y_MAGNAMED   LONGITUD   LATITUD  \n",
      "0        NaN   833195.78  1184350.27 -75.584608  6.261152  \n",
      "1        NaN   833455.19  1187884.37 -75.582266  6.293102  \n",
      "2        NaN   835882.26  1183346.78 -75.560337  6.252080  \n",
      "3        NaN   831732.26  1180061.86 -75.597828  6.222382  \n",
      "4        NaN   835719.88  1181651.42 -75.561804  6.236754  \n",
      "\n",
      "[5 rows x 24 columns]\n"
     ]
    }
   ]
  },
  {
   "cell_type": "markdown",
   "source": [
    "#### El dataset correspondiente al 2018 presenta dos diferencias respecto a los demás\n",
    "- Las columnas \"X_MAGNAMED\" y \"Y_MAGNAMED\" no se encuentran en los otros dos años y deben ser eliminadas.\n",
    "- Las columnas \"LONGITUD\" y \"LATITUD\" tampoco se encuentras en los otros dos años, pero sus valores coinciden con la\n",
    "columnas de \"X\" e \"Y\", por lo tanto también se eliminan"
   ],
   "metadata": {
    "collapsed": false,
    "pycharm": {
     "name": "#%% md\n"
    }
   }
  },
  {
   "cell_type": "code",
   "execution_count": 3,
   "outputs": [
    {
     "name": "stdout",
     "output_type": "stream",
     "text": [
      "['X' 'Y' 'OBJECTID' 'RADICADO' 'HORA' 'DIA_NOMBRE' 'PERIODO' 'CLASE'\n",
      " 'DIRECCION' 'DIRECCION_ENC' 'CBML' 'TIPO_GEOCOD' 'GRAVEDAD' 'BARRIO'\n",
      " 'COMUNA' 'DISENO' 'MES' 'DIA' 'FECHA' 'MES_NOMBRE']\n"
     ]
    }
   ],
   "source": [
    "datalist[1]=datalist[1].drop(['X_MAGNAMED','Y_MAGNAMED',\"LATITUD\",\"LONGITUD\"],axis=1)\n",
    "print(datalist[1].columns.values)\n",
    "\n"
   ],
   "metadata": {
    "collapsed": false,
    "pycharm": {
     "name": "#%%\n"
    }
   }
  },
  {
   "cell_type": "code",
   "execution_count": 4,
   "outputs": [
    {
     "name": "stdout",
     "output_type": "stream",
     "text": [
      "Los datasets poseen columnas iguales\n"
     ]
    }
   ],
   "source": [
    "if (datalist[0].columns==datalist[1].columns).all and (datalist[0].columns==datalist[2].columns).all:\n",
    "    print(\"Los datasets poseen columnas iguales\")\n",
    "else:print(\"Los datasets poseen columnas diferentes\")\n"
   ],
   "metadata": {
    "collapsed": false,
    "pycharm": {
     "name": "#%%\n"
    }
   }
  },
  {
   "cell_type": "markdown",
   "source": [
    "En esta limpieza también se realiza un primer filtro de características\n",
    "- \"X\" e \"Y\" corresponden a la latitud y longitud de el accidente, dificilmente un accidente pueda ocurrir\n",
    "en las mismas coordenadas, no se considera util.\n",
    "- \"OBJECTID\" Es la clave primaria dentro de una base de datos mongo por lo que no es una carecterística\n",
    "- \"RADICADO\" Es un valor único con el que se radicó cada accidente por lo tanto no es relevante\n",
    "- \"FECHA\" los datasets ya cuentan con una fecha desglosada en mes y día.\n",
    "- \"MES_NOMBRE\" no todas las filas tienen completo este campo, además de que ya se cuenta con una columna \"MES\" con\n",
    "el número del mes.\n",
    "- \"DIRECCION_ENC\" es otro formato para la dirección, por lo que se puede descartar."
   ],
   "metadata": {
    "collapsed": false,
    "pycharm": {
     "name": "#%% md\n"
    }
   }
  },
  {
   "cell_type": "code",
   "execution_count": 5,
   "outputs": [],
   "source": [
    "for i in range(3):\n",
    "    datalist[i]=datalist[i].drop(['X','Y','OBJECTID', 'RADICADO','FECHA','MES_NOMBRE','DIRECCION_ENC','CBML'],axis=1)\n",
    "\n",
    "# print(datalist[0].columns)\n",
    "# a=datalist[0]\n",
    "# print(a['BARRIO'].unique())# for column in datalist[0].columns:\n",
    "#     print(column)\n",
    "#     print(datalist[0][column].unique())\n"
   ],
   "metadata": {
    "collapsed": false,
    "pycharm": {
     "name": "#%%\n"
    }
   }
  },
  {
   "cell_type": "markdown",
   "source": [
    "Lo siguiente es verificar la presencia de datos atípicos o mal escritos en las clases\n",
    "y sean reemplazados manualmente en un archivo csv.\n"
   ],
   "metadata": {
    "collapsed": false,
    "pycharm": {
     "name": "#%% md\n"
    }
   }
  },
  {
   "cell_type": "code",
   "execution_count": 6,
   "outputs": [
    {
     "name": "stdout",
     "output_type": "stream",
     "text": [
      "Index(['HORA', 'DIA_NOMBRE', 'PERIODO', 'CLASE', 'DIRECCION', 'CBML',\n",
      "       'TIPO_GEOCOD', 'GRAVEDAD', 'BARRIO', 'COMUNA', 'DISENO', 'MES', 'DIA'],\n",
      "      dtype='object')\n"
     ]
    }
   ],
   "source": [
    "dataTotal=pd.concat(datalist,axis=0)\n",
    "print(dataTotal.columns)\n",
    "dia_nombre=dataTotal['DIA_NOMBRE'].unique()\n",
    "clase=dataTotal['CLASE'].unique()\n",
    "tipo_geocod=dataTotal['TIPO_GEOCOD'].unique()\n",
    "gravedad=dataTotal['GRAVEDAD'].unique()\n",
    "barrio=dataTotal['BARRIO'].unique()\n",
    "comuna=dataTotal['COMUNA'].unique()\n",
    "mes=dataTotal['MES'].unique()\n",
    "dia=dataTotal['DIA'].unique()\n",
    "diseno=dataTotal['DISENO'].unique()"
   ],
   "metadata": {
    "collapsed": false,
    "pycharm": {
     "name": "#%%\n"
    }
   }
  },
  {
   "cell_type": "code",
   "execution_count": 7,
   "outputs": [
    {
     "name": "stdout",
     "output_type": "stream",
     "text": [
      "['1209' '0604' '1101' '1510' '1204' '0107' '0519' '8000' '1507' '1418'\n",
      " '1419' '1019' '6097' '1115' '1105' '1502' '1421' '1417' '0701' '1113'\n",
      " '1607' '0813' '0416' '1504' '0602' '0802' '1016' '1201' '1612' '1403'\n",
      " '0607' '0415' '1416' '0507' '1009' '1414' '1621' '0401' '0710' '0304'\n",
      " '0722' '1012' '0306' '1008' '1117' '1415' '1102' '0405' '0105' '0517'\n",
      " '1114' '1107' '1309' '1005' '1116' '1112' '0806' '1509' '1109' '1618'\n",
      " '0305' '1202' '1014' '0508' '1020' '0303' '1006' '0906' '1011' '1111'\n",
      " '0510' '0915' '1103' '0406' '1605' '1013' '0725' '1304' '0511' '0409'\n",
      " '1004' '6098' '1017' '0501' '1602' '1412' '0717' '0516' '1007' '0913'\n",
      " '6000' '0513' '0308' '0104' '1001' '0103' '1210' '0402' '1401' '0502'\n",
      " '1404' '1206' '1411' '0905' '0608' '1301' '0514' '0307' '1620' '1503'\n",
      " '1018' '1208' '1420' '0715' '0706' '0907' '0810' '0204' '0407' '1410'\n",
      " '1603' '0509' '1310' '0605' '1616' '1608' '0101' '1207' '0106' '9083'\n",
      " '0504' '0716' '0603' '6087' '1422' '7001' '1108' '0914' '1409' '0705'\n",
      " '1407' '1003' '0414' '0714' '0815' '1203' '0413' '1313' '0410' '0209'\n",
      " '1606' '1501' '1211' '1205' '1610' '1423' '0703' '0417' '1213' '0606'\n",
      " '0408' '1601' '1010' '1506' '0206' '0902' '0210' '0301' '1406' '0809'\n",
      " '6010' '1306' '0702' '9086' '0707' '0718' '0912' '1015' '1307' '0807'\n",
      " '0503' '1511' '0207' '1212' '0801' '0412' '0411' '0904' '1413' '0711'\n",
      " '0601' '0708' '0312' '0302' '1604' '0803' '1110' '0505' '1614' '0512'\n",
      " '0309' '1106' '1312' '1308' '0812' '0917' '1318' '0713' '0609' '0202'\n",
      " '1611' nan '13040640029' '07080020001' '0211' '0911' '1617' '0108' '1104'\n",
      " '9004' '0819' '0808' '0709' '0111' '0712' '7002' '0720' '0724' '0102'\n",
      " '0506' '1002' '1615' 'Inst_14' '0515' '0903' '04140080010' '1619' '1311'\n",
      " '0719' '0403' '1613' '1405' '0910' '1408' '06030800011' '0723' '0205'\n",
      " '1316' '11140190021' '0201' '15010190001' '15030610024' '70010000303'\n",
      " '0908' '0313' '10190450005' '01040490032' '8098' '0208' '0109' '0314'\n",
      " '0916' '11080750016' '16050500062' '0811' '0404' '07140070003' '0203'\n",
      " '0804' '0909' '6012' '5089' '1609' '8005' '09060050062' '9085' '6084'\n",
      " '60000130063' '05070280014' '0311' '16' '06081010032' '08130610011'\n",
      " '13100480017' '11110380016' '6009' '07070090029' '12130120002'\n",
      " '03020760021' '03020440042' '16120500006' '14160120015' '1302'\n",
      " '60980380285' '10180300001' '60980480037' '11100010001' '04010270053'\n",
      " '04060010001' '7084' '0901' '7087' '13110050031' '09020120043' '0611'\n",
      " '03020880015' '14220260008' '60000570004' '0110' '10130350005' '1314'\n",
      " '0704' '9008' '0805' '6085' '1315' '0112' '1319' '1317' '0610'\n",
      " '04130420012' '08100570008' '06010820001' '0612' '6016' '1305'\n",
      " '15070050017' '04020060001' '1303' '7088' '0310' '7085' '6017'\n",
      " '03020770009' '60' '9012' '6001' '0816' '09120370011' '7096'\n",
      " '09140040010' '11' '04100230053' '9082' '10' '05120020021' '0817'\n",
      " '04150210001' 'Inst_16' '10040350014' '7097' '04050900034' 'Inst_3'\n",
      " '13090270005' '05170100032' '11040330052' '03120070459' '13060200044'\n",
      " '9077' 'AUC1' '8004' '0315' '8003' '8001' '8089' '6014' '6015'\n",
      " '06070090002' '0814' '6089' 'Inst_19' '15060010023' '11070410015'\n",
      " '03040050042' '15100270018' '16020370016' '10040350015' '04110200029'\n",
      " '80000760002' '15090520017' '14230180004' '16060350027' '02100090113'\n",
      " '15070640008' '10190040012' '9005' '05140170021' '10050020003'\n",
      " '05110280014' '04051080141' '04100060030' '05120020017' '13100460018'\n",
      " '16020560027' '03050240001' '12020200015' '16210150012' '03030360030'\n",
      " '03020470005' '04140090002' '8002' '10050020017' '10070120001' '6088'\n",
      " '6005' '6004' '5003' '9003' '05090470009' '10010160014' '80000820040'\n",
      " '04110230001' '03080250015' '06050290014' '08080200051' '11080020027'\n",
      " '06010150013' '10150080048' '15040630001' '03020760024' '10080200012'\n",
      " '10070240026' '60980520009' '12020020002' '11090140009' '15100500003'\n",
      " '60850060050' '01040010106' '03030020020' '16210030018' '13120130003'\n",
      " '11040300023' '09040080024' '05120020020' '12050150030' '06010940010'\n",
      " '06040600022' '16050540005' '10160590024' '10180280003' '02030130078'\n",
      " '07100090045' '14010180009' '09120530009' '03020760023' '09100270016'\n",
      " '10130310022' '14180080006' '14010010042' '90040000834' '09020020012'\n",
      " '80004340062' '14220250023' '16130070001' '15090520007' '07120110014'\n",
      " '9011' '11140450003' '03030380020' '50890010017' '05110380047'\n",
      " '14220260002' '14110020012' '05190210015' '07030020094' '03040160010'\n",
      " '14' 'Sin Inf' '15' '5004' '08190040051' '02060160380' '9002' '80'\n",
      " '03020770002']\n"
     ]
    }
   ],
   "source": [
    "dataTotal.to_csv('dataTotal.csv')\n"
   ],
   "metadata": {
    "collapsed": false,
    "pycharm": {
     "name": "#%%\n"
    }
   }
  },
  {
   "cell_type": "markdown",
   "source": [
    "Una vez que se hizo una limpieza manual de datos de clases mal escritos, cargamos nuevamente el dataset\n"
   ],
   "metadata": {
    "collapsed": false,
    "pycharm": {
     "name": "#%% md\n"
    }
   }
  },
  {
   "cell_type": "code",
   "execution_count": 20,
   "outputs": [
    {
     "data": {
      "text/plain": "       DIA_NOMBRE  PERIODO           CLASE            DIRECCION TIPO_GEOCOD  \\\n0         DOMINGO     2017          Choque        CL 34 F CR 89  Malla vial   \n1       MIÉRCOLES     2017          Choque         CR 76 CL 104  Malla vial   \n2         DOMINGO     2017          Choque        CL 50 CR 64 B  Malla vial   \n3       MIÉRCOLES     2017          Choque  CR 51 C CL 12 B Sur  Malla vial   \n4          JUEVES     2017            Otro        CR 82 CL 42 D  Malla vial   \n...           ...      ...             ...                  ...         ...   \n113808     MARTES     2019  Caida Ocupante          CL 67 CR 54  Malla vial   \n113809    VIERNES     2019          Choque         CR 52 CL 100  Malla vial   \n113810    VIERNES     2019            Otro       CR 50 A CL 109  Malla vial   \n113811    VIERNES     2019          Choque        CL 35 CR 80 B  Malla vial   \n113812      LUNES     2019          Choque        CL 99 CR 51 A  Malla vial   \n\n          GRAVEDAD              BARRIO            COMUNA         DISENO  MES  \\\n0           HERIDO        Santa Mónica        La América  Lote o Predio    7   \n1           HERIDO            Pedregal   Doce de Octubre   Interseccion    5   \n2       SOLO DAÑOS  Carlos E. Restrepo  Laureles Estadio   Tramo de via    5   \n3       SOLO DAÑOS            Guayabal          Guayabal   Tramo de via    6   \n4           HERIDO          La América        La América   Tramo de via    6   \n...            ...                 ...               ...            ...  ...   \n113808      HERIDO         El Chagualo     La Candelaria   Tramo de via    8   \n113809      HERIDO          Santa Cruz        Santa Cruz   Tramo de via    7   \n113810      HERIDO          La Francia        Santa Cruz   Tramo de via    8   \n113811  SOLO DAÑOS         Las Acacias  Laureles Estadio   Tramo de via    7   \n113812  SOLO DAÑOS          Santa Cruz        Santa Cruz   Tramo de via    7   \n\n        DIA  \n0         2  \n1        10  \n2         7  \n3        28  \n4         8  \n...     ...  \n113808    6  \n113809    5  \n113810   23  \n113811   19  \n113812   29  \n\n[113813 rows x 11 columns]",
      "text/html": "<div>\n<style scoped>\n    .dataframe tbody tr th:only-of-type {\n        vertical-align: middle;\n    }\n\n    .dataframe tbody tr th {\n        vertical-align: top;\n    }\n\n    .dataframe thead th {\n        text-align: right;\n    }\n</style>\n<table border=\"1\" class=\"dataframe\">\n  <thead>\n    <tr style=\"text-align: right;\">\n      <th></th>\n      <th>DIA_NOMBRE</th>\n      <th>PERIODO</th>\n      <th>CLASE</th>\n      <th>DIRECCION</th>\n      <th>TIPO_GEOCOD</th>\n      <th>GRAVEDAD</th>\n      <th>BARRIO</th>\n      <th>COMUNA</th>\n      <th>DISENO</th>\n      <th>MES</th>\n      <th>DIA</th>\n    </tr>\n  </thead>\n  <tbody>\n    <tr>\n      <th>0</th>\n      <td>DOMINGO</td>\n      <td>2017</td>\n      <td>Choque</td>\n      <td>CL 34 F CR 89</td>\n      <td>Malla vial</td>\n      <td>HERIDO</td>\n      <td>Santa Mónica</td>\n      <td>La América</td>\n      <td>Lote o Predio</td>\n      <td>7</td>\n      <td>2</td>\n    </tr>\n    <tr>\n      <th>1</th>\n      <td>MIÉRCOLES</td>\n      <td>2017</td>\n      <td>Choque</td>\n      <td>CR 76 CL 104</td>\n      <td>Malla vial</td>\n      <td>HERIDO</td>\n      <td>Pedregal</td>\n      <td>Doce de Octubre</td>\n      <td>Interseccion</td>\n      <td>5</td>\n      <td>10</td>\n    </tr>\n    <tr>\n      <th>2</th>\n      <td>DOMINGO</td>\n      <td>2017</td>\n      <td>Choque</td>\n      <td>CL 50 CR 64 B</td>\n      <td>Malla vial</td>\n      <td>SOLO DAÑOS</td>\n      <td>Carlos E. Restrepo</td>\n      <td>Laureles Estadio</td>\n      <td>Tramo de via</td>\n      <td>5</td>\n      <td>7</td>\n    </tr>\n    <tr>\n      <th>3</th>\n      <td>MIÉRCOLES</td>\n      <td>2017</td>\n      <td>Choque</td>\n      <td>CR 51 C CL 12 B Sur</td>\n      <td>Malla vial</td>\n      <td>SOLO DAÑOS</td>\n      <td>Guayabal</td>\n      <td>Guayabal</td>\n      <td>Tramo de via</td>\n      <td>6</td>\n      <td>28</td>\n    </tr>\n    <tr>\n      <th>4</th>\n      <td>JUEVES</td>\n      <td>2017</td>\n      <td>Otro</td>\n      <td>CR 82 CL 42 D</td>\n      <td>Malla vial</td>\n      <td>HERIDO</td>\n      <td>La América</td>\n      <td>La América</td>\n      <td>Tramo de via</td>\n      <td>6</td>\n      <td>8</td>\n    </tr>\n    <tr>\n      <th>...</th>\n      <td>...</td>\n      <td>...</td>\n      <td>...</td>\n      <td>...</td>\n      <td>...</td>\n      <td>...</td>\n      <td>...</td>\n      <td>...</td>\n      <td>...</td>\n      <td>...</td>\n      <td>...</td>\n    </tr>\n    <tr>\n      <th>113808</th>\n      <td>MARTES</td>\n      <td>2019</td>\n      <td>Caida Ocupante</td>\n      <td>CL 67 CR 54</td>\n      <td>Malla vial</td>\n      <td>HERIDO</td>\n      <td>El Chagualo</td>\n      <td>La Candelaria</td>\n      <td>Tramo de via</td>\n      <td>8</td>\n      <td>6</td>\n    </tr>\n    <tr>\n      <th>113809</th>\n      <td>VIERNES</td>\n      <td>2019</td>\n      <td>Choque</td>\n      <td>CR 52 CL 100</td>\n      <td>Malla vial</td>\n      <td>HERIDO</td>\n      <td>Santa Cruz</td>\n      <td>Santa Cruz</td>\n      <td>Tramo de via</td>\n      <td>7</td>\n      <td>5</td>\n    </tr>\n    <tr>\n      <th>113810</th>\n      <td>VIERNES</td>\n      <td>2019</td>\n      <td>Otro</td>\n      <td>CR 50 A CL 109</td>\n      <td>Malla vial</td>\n      <td>HERIDO</td>\n      <td>La Francia</td>\n      <td>Santa Cruz</td>\n      <td>Tramo de via</td>\n      <td>8</td>\n      <td>23</td>\n    </tr>\n    <tr>\n      <th>113811</th>\n      <td>VIERNES</td>\n      <td>2019</td>\n      <td>Choque</td>\n      <td>CL 35 CR 80 B</td>\n      <td>Malla vial</td>\n      <td>SOLO DAÑOS</td>\n      <td>Las Acacias</td>\n      <td>Laureles Estadio</td>\n      <td>Tramo de via</td>\n      <td>7</td>\n      <td>19</td>\n    </tr>\n    <tr>\n      <th>113812</th>\n      <td>LUNES</td>\n      <td>2019</td>\n      <td>Choque</td>\n      <td>CL 99 CR 51 A</td>\n      <td>Malla vial</td>\n      <td>SOLO DAÑOS</td>\n      <td>Santa Cruz</td>\n      <td>Santa Cruz</td>\n      <td>Tramo de via</td>\n      <td>7</td>\n      <td>29</td>\n    </tr>\n  </tbody>\n</table>\n<p>113813 rows × 11 columns</p>\n</div>"
     },
     "execution_count": 20,
     "metadata": {},
     "output_type": "execute_result"
    }
   ],
   "source": [
    "dataTotal2=pd.read_csv(\"dataTotalv2.csv\")"
   ],
   "metadata": {
    "collapsed": false,
    "pycharm": {
     "name": "#%%\n"
    }
   }
  },
  {
   "cell_type": "markdown",
   "source": [
    "Existen daos atípicos dentro de las columnas \"BARRIO\" y \"COMUNA\" que debido a que son pocos, se optó\n",
    "por eliminar."
   ],
   "metadata": {
    "collapsed": false,
    "pycharm": {
     "name": "#%% md\n"
    }
   }
  },
  {
   "cell_type": "code",
   "execution_count": 22,
   "outputs": [],
   "source": [
    "column=['BARRIO','COMUNA']\n",
    "atypical=[['Sin Nombre','0','Inst','AUC1','6001','9086','7001','9004'],['AU','Sin Inf']]\n",
    "a=zip(column,atypical)\n",
    "\n",
    "#borra los datos atípicos de la segunda versión del dataset\n",
    "for i ,j in a:\n",
    "    for k in j:\n",
    "        dataTotal2 = dataTotal2.drop(dataTotal2[dataTotal2[i] ==k].index)"
   ],
   "metadata": {
    "collapsed": false,
    "pycharm": {
     "name": "#%%\n"
    }
   }
  },
  {
   "cell_type": "markdown",
   "source": [
    "Lo siguiente es el rellenado de datos"
   ],
   "metadata": {
    "collapsed": false,
    "pycharm": {
     "name": "#%% md\n"
    }
   }
  },
  {
   "cell_type": "code",
   "execution_count": 29,
   "outputs": [
    {
     "name": "stdout",
     "output_type": "stream",
     "text": [
      "DIA_NOMBRE       0\n",
      "PERIODO          0\n",
      "CLASE            0\n",
      "DIRECCION        0\n",
      "TIPO_GEOCOD      0\n",
      "GRAVEDAD         0\n",
      "BARRIO         165\n",
      "COMUNA         140\n",
      "DISENO         431\n",
      "MES              0\n",
      "DIA              0\n",
      "dtype: int64\n",
      "[['DOMINGO' 2017 'Choque' ... 'Lote o Predio' 7 2]\n",
      " ['MIÉRCOLES' 2017 'Choque' ... 'Interseccion' 5 10]\n",
      " ['DOMINGO' 2017 'Choque' ... 'Tramo de via' 5 7]\n",
      " ...\n",
      " ['VIERNES' 2019 'Otro' ... 'Tramo de via' 8 23]\n",
      " ['VIERNES' 2019 'Choque' ... 'Tramo de via' 7 19]\n",
      " ['LUNES' 2019 'Choque' ... 'Tramo de via' 7 29]]\n"
     ]
    }
   ],
   "source": [
    "#datos nulos\n",
    "from sklearn.impute import SimpleImputer\n",
    "print(dataTotal2.isnull().sum())\n",
    "strategy = SimpleImputer(strategy='most_frequent')\n",
    "dataTotalF=strategy.fit_transform(dataTotal2)\n",
    "print(dataTotalF)"
   ],
   "metadata": {
    "collapsed": false,
    "pycharm": {
     "name": "#%%\n"
    }
   }
  },
  {
   "cell_type": "code",
   "execution_count": 32,
   "outputs": [
    {
     "name": "stdout",
     "output_type": "stream",
     "text": [
      "DIA_NOMBRE     0\n",
      "PERIODO        0\n",
      "CLASE          0\n",
      "DIRECCION      0\n",
      "TIPO_GEOCOD    0\n",
      "GRAVEDAD       0\n",
      "BARRIO         0\n",
      "COMUNA         0\n",
      "DISENO         0\n",
      "MES            0\n",
      "DIA            0\n",
      "dtype: int64\n"
     ]
    }
   ],
   "source": [
    "newDf = pd.DataFrame(data=dataTotalF, columns=dataTotal2.columns)\n",
    "print(newDf.isnull().sum())"
   ],
   "metadata": {
    "collapsed": false,
    "pycharm": {
     "name": "#%%\n"
    }
   }
  },
  {
   "cell_type": "markdown",
   "source": [
    "# El dataset se encuentra listo para exportarse."
   ],
   "metadata": {
    "collapsed": false,
    "pycharm": {
     "name": "#%% md\n"
    }
   }
  },
  {
   "cell_type": "code",
   "execution_count": 34,
   "outputs": [],
   "source": [
    "newDf.to_csv('cleanData.csv',index=False)\n",
    "\n"
   ],
   "metadata": {
    "collapsed": false,
    "pycharm": {
     "name": "#%%\n"
    }
   }
  }
 ],
 "metadata": {
  "kernelspec": {
   "name": "pycharm-a42563eb",
   "language": "python",
   "display_name": "PyCharm (Accident-predictor)"
  },
  "language_info": {
   "codemirror_mode": {
    "name": "ipython",
    "version": 2
   },
   "file_extension": ".py",
   "mimetype": "text/x-python",
   "name": "python",
   "nbconvert_exporter": "python",
   "pygments_lexer": "ipython2",
   "version": "2.7.6"
  }
 },
 "nbformat": 4,
 "nbformat_minor": 0
}