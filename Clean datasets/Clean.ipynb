{
 "cells": [
  {
   "cell_type": "markdown",
   "source": [
    "#### En este módulo se realiza la limpieza de datos y se exportan dentro de este mismo directorio \"Clean datasets\""
   ],
   "metadata": {
    "collapsed": false,
    "pycharm": {
     "name": "#%% md\n"
    }
   }
  },
  {
   "cell_type": "code",
   "execution_count": 1,
   "outputs": [],
   "source": [
    "import pandas as pd\n",
    "data_2017=pd.read_csv(\"../Dirt_datasets/Accidentalidad_georreferenciada_2017.csv\")\n",
    "data_2018=pd.read_csv(\"../Dirt_datasets/Accidentalidad_georreferenciada_2018.csv\")\n",
    "data_2019=pd.read_csv(\"../Dirt_datasets/Accidentalidad_georreferenciada_2019.csv\")"
   ],
   "metadata": {
    "collapsed": false,
    "pycharm": {
     "name": "#%%\n"
    }
   }
  },
  {
   "cell_type": "markdown",
   "source": [
    "Se verifica que hayan cargado correctamente y que contengan las mismas columnas"
   ],
   "metadata": {
    "collapsed": false,
    "pycharm": {
     "name": "#%% md\n"
    }
   }
  },
  {
   "cell_type": "code",
   "source": [
    "datalist=[data_2017,data_2018,data_2019]\n",
    "for data in datalist:\n",
    "    print(data.columns.values)\n",
    "print(datalist[1].head())"
   ],
   "metadata": {
    "collapsed": false,
    "pycharm": {
     "name": "#%%\n"
    }
   },
   "execution_count": 2,
   "outputs": [
    {
     "name": "stdout",
     "output_type": "stream",
     "text": [
      "['X' 'Y' 'OBJECTID' 'RADICADO' 'HORA' 'DIA_NOMBRE' 'PERIODO' 'CLASE'\n",
      " 'DIRECCION' 'DIRECCION_ENC' 'CBML' 'TIPO_GEOCOD' 'GRAVEDAD' 'BARRIO'\n",
      " 'COMUNA' 'DISENO' 'MES' 'DIA' 'FECHA' 'MES_NOMBRE']\n",
      "['X' 'Y' 'OBJECTID' 'RADICADO' 'HORA' 'DIA_NOMBRE' 'PERIODO' 'CLASE'\n",
      " 'DIRECCION' 'DIRECCION_ENC' 'CBML' 'TIPO_GEOCOD' 'GRAVEDAD' 'BARRIO'\n",
      " 'COMUNA' 'DISENO' 'MES' 'DIA' 'FECHA' 'MES_NOMBRE' 'X_MAGNAMED'\n",
      " 'Y_MAGNAMED' 'LONGITUD' 'LATITUD']\n",
      "['X' 'Y' 'OBJECTID' 'RADICADO' 'HORA' 'DIA_NOMBRE' 'PERIODO' 'CLASE'\n",
      " 'DIRECCION' 'DIRECCION_ENC' 'CBML' 'TIPO_GEOCOD' 'GRAVEDAD' 'BARRIO'\n",
      " 'COMUNA' 'DISENO' 'MES' 'DIA' 'FECHA' 'MES_NOMBRE']\n",
      "           X         Y  OBJECTID   RADICADO      HORA DIA_NOMBRE  PERIODO  \\\n",
      "0 -75.584608  6.261152    550556  1612819.0  01:30 PM  DOMINGO       2018   \n",
      "1 -75.582266  6.293102    550557  1612866.0  01:30 PM  DOMINGO       2018   \n",
      "2 -75.560337  6.252080    550558  1612809.0  02:30 PM  DOMINGO       2018   \n",
      "3 -75.597828  6.222382    550559  1612812.0  02:30 PM  DOMINGO       2018   \n",
      "4 -75.561804  6.236754    550560  1612817.0  02:37 PM  DOMINGO       2018   \n",
      "\n",
      "            CLASE    DIRECCION             DIRECCION_ENC  ...  \\\n",
      "0          Choque  CR 70 CL 55  CR  070   055  000 00000  ...   \n",
      "1          Choque  CR 79 CL 95  CR  079   095  000 00000  ...   \n",
      "2  Caida Ocupante  CR 43 CL 57  CR  043   057  000 00000  ...   \n",
      "3            Otro  CR 76 CL 16  CR  076   016  000 00000  ...   \n",
      "4          Choque  CR 36 CL 39  CR  036   039  000 00000  ...   \n",
      "\n",
      "             COMUNA        DISENO MES DIA                     FECHA  \\\n",
      "0  Laureles Estadio  Interseccion   1  14  2018-01-14T00:00:00.000Z   \n",
      "1   Doce de Octubre  Tramo de via   1  14  2018-01-14T00:00:00.000Z   \n",
      "2     La Candelaria  Tramo de via   1  14  2018-01-14T00:00:00.000Z   \n",
      "3             Belén  Interseccion   1  14  2018-01-14T00:00:00.000Z   \n",
      "4      Buenos Aires  Tramo de via   1  14  2018-01-14T00:00:00.000Z   \n",
      "\n",
      "  MES_NOMBRE  X_MAGNAMED  Y_MAGNAMED   LONGITUD   LATITUD  \n",
      "0        NaN   833195.78  1184350.27 -75.584608  6.261152  \n",
      "1        NaN   833455.19  1187884.37 -75.582266  6.293102  \n",
      "2        NaN   835882.26  1183346.78 -75.560337  6.252080  \n",
      "3        NaN   831732.26  1180061.86 -75.597828  6.222382  \n",
      "4        NaN   835719.88  1181651.42 -75.561804  6.236754  \n",
      "\n",
      "[5 rows x 24 columns]\n"
     ]
    }
   ]
  },
  {
   "cell_type": "markdown",
   "source": [
    "#### El dataset correspondiente al 2018 presenta dos diferencias respecto a los demás\n",
    "- Las columnas \"X_MAGNAMED\" y \"Y_MAGNAMED\" no se encuentran en los otros dos años y deben ser eliminadas.\n",
    "- Las columnas \"LONGITUD\" y \"LATITUD\" tampoco se encuentras en los otros dos años, pero sus valores coinciden con la\n",
    "columnas de \"X\" e \"Y\", por lo tanto también se eliminan"
   ],
   "metadata": {
    "collapsed": false,
    "pycharm": {
     "name": "#%% md\n"
    }
   }
  },
  {
   "cell_type": "code",
   "execution_count": 3,
   "outputs": [
    {
     "name": "stdout",
     "output_type": "stream",
     "text": [
      "['X' 'Y' 'OBJECTID' 'RADICADO' 'HORA' 'DIA_NOMBRE' 'PERIODO' 'CLASE'\n",
      " 'DIRECCION' 'DIRECCION_ENC' 'CBML' 'TIPO_GEOCOD' 'GRAVEDAD' 'BARRIO'\n",
      " 'COMUNA' 'DISENO' 'MES' 'DIA' 'FECHA' 'MES_NOMBRE']\n"
     ]
    }
   ],
   "source": [
    "datalist[1]=datalist[1].drop(['X_MAGNAMED','Y_MAGNAMED',\"LATITUD\",\"LONGITUD\"],axis=1)\n",
    "print(datalist[1].columns.values)\n",
    "\n"
   ],
   "metadata": {
    "collapsed": false,
    "pycharm": {
     "name": "#%%\n"
    }
   }
  },
  {
   "cell_type": "code",
   "execution_count": 4,
   "outputs": [
    {
     "name": "stdout",
     "output_type": "stream",
     "text": [
      "Los datasets poseen columnas iguales\n"
     ]
    }
   ],
   "source": [
    "if (datalist[0].columns==datalist[1].columns).all and (datalist[0].columns==datalist[2].columns).all:\n",
    "    print(\"Los datasets poseen columnas iguales\")\n",
    "else:print(\"Los datasets poseen columnas diferentes\")\n"
   ],
   "metadata": {
    "collapsed": false,
    "pycharm": {
     "name": "#%%\n"
    }
   }
  },
  {
   "cell_type": "markdown",
   "source": [
    "En esta limpieza también se realiza un primer filtro de características\n",
    "- \"X\" e \"Y\" corresponden a la latitud y longitud de el accidente, dificilmente un accidente pueda ocurrir\n",
    "en las mismas coordenadas, no se considera util.\n",
    "- \"OBJECTID\" Es la clave primaria dentro de una base de datos mongo por lo que no es una carecterística\n",
    "- \"RADICADO\" Es un valor único con el que se radicó cada accidente por lo tanto no es relevante\n",
    "- \"FECHA\" los datasets ya cuentan con una fecha desglosada en mes y día.\n",
    "- \"MES_NOMBRE\" no todas las filas tienen completo este campo, además de que ya se cuenta con una columna \"MES\" con\n",
    "el número del mes.\n",
    "- \"DIRECCION_ENC\" es otro formato para la dirección, por lo que se puede descartar."
   ],
   "metadata": {
    "collapsed": false,
    "pycharm": {
     "name": "#%% md\n"
    }
   }
  },
  {
   "cell_type": "code",
   "execution_count": 5,
   "outputs": [],
   "source": [
    "for i in range(3):\n",
    "    datalist[i]=datalist[i].drop(['X','Y','OBJECTID', 'RADICADO','FECHA','MES_NOMBRE','DIRECCION_ENC'],axis=1)\n",
    "\n",
    "# print(datalist[0].columns)\n",
    "# a=datalist[0]\n",
    "# print(a['BARRIO'].unique())# for column in datalist[0].columns:\n",
    "#     print(column)\n",
    "#     print(datalist[0][column].unique())\n"
   ],
   "metadata": {
    "collapsed": false,
    "pycharm": {
     "name": "#%%\n"
    }
   }
  },
  {
   "cell_type": "markdown",
   "source": [
    "Lo siguiente es verificar la presencia de datos atípicos o mal escritos en las clases\n",
    "y sean reemplazados manualmente en un archivo csv.\n"
   ],
   "metadata": {
    "collapsed": false,
    "pycharm": {
     "name": "#%% md\n"
    }
   }
  },
  {
   "cell_type": "code",
   "execution_count": 13,
   "outputs": [
    {
     "name": "stdout",
     "output_type": "stream",
     "text": [
      "Index(['HORA', 'DIA_NOMBRE', 'PERIODO', 'CLASE', 'DIRECCION', 'CBML',\n",
      "       'TIPO_GEOCOD', 'GRAVEDAD', 'BARRIO', 'COMUNA', 'DISENO', 'MES', 'DIA'],\n",
      "      dtype='object')\n"
     ]
    }
   ],
   "source": [
    "dataTotal=pd.concat(datalist,axis=0)\n",
    "print(dataTotal.columns)\n",
    "dia_nombre=dataTotal['DIA_NOMBRE'].unique()\n",
    "clase=dataTotal['CLASE'].unique()\n",
    "tipo_geocod=dataTotal['TIPO_GEOCOD'].unique()\n",
    "gravedad=dataTotal['GRAVEDAD'].unique()\n",
    "barrio=dataTotal['BARRIO'].unique()\n",
    "comuna=dataTotal['COMUNA'].unique()\n",
    "mes=dataTotal['MES'].unique()\n",
    "dia=dataTotal['DIA'].unique()\n",
    "diseno=dataTotal['DISENO'].unique()"
   ],
   "metadata": {
    "collapsed": false,
    "pycharm": {
     "name": "#%%\n"
    }
   }
  },
  {
   "cell_type": "code",
   "execution_count": 14,
   "outputs": [
    {
     "name": "stdout",
     "output_type": "stream",
     "text": [
      "['Lote o Predio' 'Interseccion' 'Tramo de via' 'Glorieta' 'Paso Elevado'\n",
      " 'Puente' nan 'Ciclo Ruta' 'Paso Inferior' 'Paso a Nivel' 'Tunel' 'Pontón'\n",
      " 'Via peatonal']\n"
     ]
    }
   ],
   "source": [
    "# dataTotal.to_csv('dataTotal.csv')\n",
    "print(diseno)\n"
   ],
   "metadata": {
    "collapsed": false,
    "pycharm": {
     "name": "#%%\n"
    }
   }
  }
 ],
 "metadata": {
  "kernelspec": {
   "name": "pycharm-a42563eb",
   "language": "python",
   "display_name": "PyCharm (Accident-predictor)"
  },
  "language_info": {
   "codemirror_mode": {
    "name": "ipython",
    "version": 2
   },
   "file_extension": ".py",
   "mimetype": "text/x-python",
   "name": "python",
   "nbconvert_exporter": "python",
   "pygments_lexer": "ipython2",
   "version": "2.7.6"
  }
 },
 "nbformat": 4,
 "nbformat_minor": 0
}