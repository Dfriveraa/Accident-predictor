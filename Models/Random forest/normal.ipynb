{
 "cells": [
  {
   "cell_type": "markdown",
   "metadata": {
    "collapsed": true,
    "pycharm": {
     "name": "#%% md\n"
    }
   },
   "source": [
    "## Modulo designado para la creación de el modelo de Random Forest\n",
    "En este punto los datasets ya se encuentran en archivos .csv dentro de la carpeta\n",
    "\"CSV ready to model\"\n"
   ]
  },
  {
   "cell_type": "code",
   "execution_count": 9,
   "metadata": {
    "pycharm": {
     "name": "#%%\n"
    }
   },
   "outputs": [],
   "source": [
    "import pandas as pd\n",
    "from scikitplot.metrics import plot_roc, plot_roc_curve\n",
    "from sklearn.preprocessing import LabelEncoder\n",
    "import numpy as np\n",
    "import scikitplot as skplt#Esta librería toca instalarla \"conda install -c conda-forge scikit-plot\"\n",
    "import time\n",
    "import sys\n",
    "sys.path.append('..')\n",
    "from funciones import classification_error\n",
    "from sklearn.ensemble import RandomForestClassifier\n",
    "from sklearn.model_selection import train_test_split\n",
    "from sklearn.metrics import accuracy_score, recall_score, precision_score, f1_score, roc_auc_score, roc_curve\n",
    "df=pd.read_csv('../../CSV ready to model/withoutPCA.csv')"
   ]
  },
  {
   "cell_type": "markdown",
   "metadata": {
    "pycharm": {
     "name": "#%% md\n"
    }
   },
   "source": [
    "Label encoder para la columna a predecir"
   ]
  },
  {
   "cell_type": "code",
   "execution_count": 10,
   "metadata": {
    "pycharm": {
     "name": "#%%\n"
    }
   },
   "outputs": [],
   "source": [
    "le=LabelEncoder()\n",
    "df['GRAVEDAD']=df.loc[:,['GRAVEDAD']].apply(le.fit_transform)\n"
   ]
  },
  {
   "cell_type": "code",
   "execution_count": 42,
   "metadata": {
    "pycharm": {
     "name": "#%%\n"
    }
   },
   "outputs": [],
   "source": [
    "def model_RF(x,y,estimadores, caracteristicas, impresion = False):\n",
    "\n",
    "    tiempo_i = time.time()\n",
    "    accuracy_list = np.zeros([4])\n",
    "    precision_list = np.zeros([4,3])\n",
    "    recall_list = np.zeros([4,3])\n",
    "    f_list = np.zeros([4,3])\n",
    "    errores = np.zeros(4)\n",
    "\n",
    "    RF = RandomForestClassifier(n_estimators=estimadores, max_features =caracteristicas, n_jobs = -1)\n",
    "    for j in range(4):\n",
    "        Xtrain, Xtest, Ytrain, Ytest = train_test_split(x, y, test_size=0.25) # Modificar metodología de validación\n",
    "\n",
    "        RF.fit(Xtrain, Ytrain)\n",
    "        pred = RF.predict(Xtest)\n",
    "\n",
    "        #code for calculating accuracy\n",
    "        _accuracy_ = accuracy_score(Ytest, pred, normalize=True)\n",
    "        accuracy_list[j] = _accuracy_\n",
    "\n",
    "        #code for calculating recall\n",
    "        _recalls_ = recall_score(Ytest, pred, average=None)\n",
    "        recall_list[j] = _recalls_\n",
    "\n",
    "        #code for calculating precision\n",
    "        _precisions_ = precision_score(Ytest, pred, average=None)\n",
    "        precision_list[j] = _precisions_\n",
    "\n",
    "        _f_score_ = f1_score(Ytest, pred, average=None)\n",
    "        f_list[j] = _f_score_\n",
    "\n",
    "\n",
    "        errores[j] = classification_error(pred, Ytest)\n",
    "\n",
    "\n",
    "    if impresion == True:\n",
    "        skplt.metrics.plot_confusion_matrix(Ytest, pred)\n",
    "        grafica_roc(model=RF,Xtest=Xtest,Ytest=Ytest)\n",
    "\n",
    "    result={'Eficiencia':np.mean(accuracy_list),'Int_Eficiencia':np.std(accuracy_list),\n",
    "        'Sensibilidad':np.mean(recall_list),'Int_Sensibilidad':np.std(recall_list),\n",
    "        'Precisión':np.mean(precision_list),'Int Precisión':np.std(precision_list),\n",
    "        'F':np.mean(f_list),'Int_F':np.std(f_list),\n",
    "        'Error':np.mean(errores),'Int_Error':np.std(errores),\n",
    "        'Tiempo':time.time()-tiempo_i\n",
    "        }\n",
    "    return  result"
   ]
  },
  {
   "cell_type": "code",
   "execution_count": 43,
   "metadata": {
    "pycharm": {
     "name": "#%%\n"
    }
   },
   "outputs": [],
   "source": [
    "y=df['GRAVEDAD']\n",
    "x=df.drop(['GRAVEDAD','PERIODO'],axis=1)\n"
   ]
  },
  {
   "cell_type": "code",
   "execution_count": 41,
   "metadata": {
    "pycharm": {
     "name": "#%%\n"
    }
   },
   "outputs": [
    {
     "name": "stdout",
     "output_type": "stream",
     "text": [
      "1742      0\n",
      "88757     2\n",
      "15337     0\n",
      "35858     0\n",
      "44128     0\n",
      "         ..\n",
      "49722     2\n",
      "109732    2\n",
      "72865     0\n",
      "113511    2\n",
      "79936     0\n",
      "Name: GRAVEDAD, Length: 28415, dtype: int64\n"
     ]
    },
    {
     "data": {
      "text/plain": "<Figure size 432x288 with 2 Axes>",
      "image/png": "[encoded data removed]"
     },
     "metadata": {
      "needs_background": "light"
     },
     "output_type": "display_data"
    }
   ],
   "source": [
    "result= model_RF(x=x,y=y,estimadores=1,caracteristicas= 1, impresion = True)"
   ]
  },
  {
   "cell_type": "code",
   "execution_count": 45,
   "metadata": {},
   "outputs": [
    {
     "data": {
      "text/plain": [
       "RandomForestClassifier(bootstrap=True, ccp_alpha=0.0, class_weight=None,\n",
       "                       criterion='gini', max_depth=None, max_features=9,\n",
       "                       max_leaf_nodes=None, max_samples=None,\n",
       "                       min_impurity_decrease=0.0, min_impurity_split=None,\n",
       "                       min_samples_leaf=1, min_samples_split=2,\n",
       "                       min_weight_fraction_leaf=0.0, n_estimators=1, n_jobs=-1,\n",
       "                       oob_score=False, random_state=None, verbose=0,\n",
       "                       warm_start=False)"
      ]
     },
     "execution_count": 45,
     "metadata": {},
     "output_type": "execute_result"
    }
   ],
   "source": [
    "model = RandomForestClassifier(n_estimators=1, max_features =9, n_jobs = -1)\n",
    "Xtrain, Xtest, Ytrain, Ytest = train_test_split(x, y, test_size=0.2) # Modificar metodología de validación\n",
    "model.fit(Xtrain, Ytrain)\n"
   ]
  },
  {
   "cell_type": "code",
   "execution_count": 12,
   "metadata": {},
   "outputs": [],
   "source": [
    "from sklearn.metrics import roc_curve, auc\n",
    "import matplotlib.pyplot as plt\n",
    "\n",
    "def grafica_roc(model,Xtest,Ytest):\n",
    "    y_predict_proba = model.predict_proba(Xtest)\n",
    "    # Compute ROC curve and ROC AUC for each class\n",
    "    n_classes = 3\n",
    "    fpr = dict()\n",
    "    tpr = dict()\n",
    "    roc_auc = dict()\n",
    "    all_y_test_i = np.array([])\n",
    "    all_y_predict_proba = np.array([])\n",
    "    for i in range(n_classes):\n",
    "        y_test_i = list(map(lambda x: 1 if x == i else 0, Ytest))\n",
    "        all_y_test_i = np.concatenate([all_y_test_i, y_test_i])\n",
    "        all_y_predict_proba = np.concatenate([all_y_predict_proba, y_predict_proba[:, i]])\n",
    "        fpr[i], tpr[i], _ = roc_curve(y_test_i, y_predict_proba[:, i])\n",
    "        roc_auc[i] = auc(fpr[i], tpr[i])\n",
    "\n",
    "    # Compute micro-average ROC curve and ROC area\n",
    "    fpr[\"average\"], tpr[\"average\"], _ = roc_curve(all_y_test_i, all_y_predict_proba)\n",
    "    roc_auc[\"average\"] = auc(fpr[\"average\"], tpr[\"average\"])\n",
    "\n",
    "    # Plot average ROC Curve\n",
    "    plt.figure()\n",
    "    plt.plot(fpr[\"average\"], tpr[\"average\"],\n",
    "             label='Average ROC curve (area = {0:0.2f})'\n",
    "                   ''.format(roc_auc[\"average\"]),\n",
    "             color='deeppink', linestyle=':', linewidth=4)\n",
    "\n",
    "    # Plot each individual ROC curve\n",
    "    for i in range(n_classes):\n",
    "        plt.plot(fpr[i], tpr[i], lw=2,\n",
    "                 label='ROC curve of class {0} (area = {1:0.2f})'\n",
    "                 ''.format(i, roc_auc[i]))\n",
    "\n",
    "    plt.plot([0, 1], [0, 1], 'k--', lw=2)\n",
    "    plt.xlim([0.0, 1.0])\n",
    "    plt.ylim([0.0, 1.05])\n",
    "    plt.xlabel('False Positive Rate')\n",
    "    plt.ylabel('True Positive Rate')\n",
    "    plt.title('Some extension of Receiver operating characteristic to multi-class')\n",
    "    plt.legend(loc=\"lower right\")\n",
    "    plt.show()\n"
   ]
  },
  {
   "cell_type": "code",
   "execution_count": 15,
   "outputs": [
    {
     "data": {
      "text/plain": "<Figure size 432x288 with 1 Axes>",
      "image/png": "[encoded data removed]"
     },
     "metadata": {
      "needs_background": "light"
     },
     "output_type": "display_data"
    }
   ],
   "source": [
    "\n",
    "modelo = RandomForestClassifier(n_estimators=1, max_features =9, n_jobs = -1)\n",
    "Xtrain, x_test, Ytrain, y_test = train_test_split(x, y, test_size=0.2) # Modificar metodología de validación\n",
    "modelo.fit(Xtrain, Ytrain)\n",
    "grafica_roc(modelo,x_test,y_test)"
   ],
   "metadata": {
    "collapsed": false,
    "pycharm": {
     "name": "#%%\n"
    }
   }
  },
  {
   "cell_type": "code",
   "execution_count": null,
   "metadata": {
    "pycharm": {
     "name": "#%%\n"
    }
   },
   "outputs": [],
   "source": [
    "import qgrid #Este paquete toca instalarlo o f\n",
    "import pandas as pd\n",
    "import numpy as np\n",
    "pd.options.mode.chained_assignment = None\n",
    "randn = np.random.randn\n",
    "df_types = pd.DataFrame({\n",
    "    'Numero de arboles' : pd.Series([5,5,5,5,5,\n",
    "                                     10,10,10,10,10,\n",
    "                                     20,20,20,20,20,\n",
    "                                     50,50,50,50,50,\n",
    "                                     100,100,100,100,100]),\n",
    "    'Variables analizadas por nodo' : pd.Series([5,6,7,8,9,\n",
    "                                                 5,6,7,8,9,\n",
    "                                                 5,6,7,8,9,\n",
    "                                                 5,6,7,8,9,\n",
    "                                                 5,6,7,8,9])})\n",
    "df_types[\"Eficiencia\"] = \"\"\n",
    "df_types[\"Int_Eficiencia\"] = \"\"\n",
    "df_types[\"Sensibilidad\"] = \"\"\n",
    "df_types[\"Int_Sensibilidad\"] = \"\"\n",
    "df_types[\"Precision\"] = \"\"\n",
    "df_types[\"Int_Precision\"] = \"\"\n",
    "df_types[\"F-Score\"] = \"\"\n",
    "df_types[\"Int_F-Score\"] = \"\"\n",
    "\n",
    "df_types[\"Error_Prueba\"] = \"\"\n",
    "df_types[\"Int_error\"] = \"\"\n",
    "df_types[\"Tiempo de ejecución\"] = \"\"\n",
    "df_types.set_index(['Numero de arboles','Variables analizadas por nodo'], inplace=True)\n",
    "\n",
    "for n, k in df_types.index:\n",
    "    result = model_RF(x,y,n, k, impresion = False)\n",
    "    df_types[\"Eficiencia\"][n,k] = result['Eficiencia']\n",
    "    df_types[\"Int_Eficiencia\"][n,k] = result['Int_Eficiencia']\n",
    "    df_types[\"Sensibilidad\"][n,k] = result['Sensibilidad']\n",
    "    df_types[\"Int_Sensibilidad\"][n,k] = result['Int_Sensibilidad']\n",
    "    df_types[\"Precision\"][n,k] = result['Precisión']\n",
    "    df_types[\"Int_Precision\"][n,k] = result['Precisión']\n",
    "    df_types[\"F-Score\"][n,k] = result['F']\n",
    "    df_types[\"Int_F-Score\"][n,k] = result['Int_F']\n",
    "    df_types[\"Error_Prueba\"][n,k] = result['Error']\n",
    "    df_types[\"Int_error\"][n,k] = result['Int_Error']\n",
    "    df_types[\"Tiempo de ejecución\"][n,k] = result['Tiempo']\n",
    "\n",
    "#df_types.sort_index(inplace=True)\n",
    "qgrid_widget = qgrid.show_grid(df_types, show_toolbar=False)\n",
    "qgrid_widget"
   ]
  },
  {
   "cell_type": "code",
   "execution_count": null,
   "metadata": {},
   "outputs": [],
   "source": []
  },
  {
   "cell_type": "code",
   "execution_count": null,
   "metadata": {
    "pycharm": {
     "name": "#%%\n"
    }
   },
   "outputs": [],
   "source": []
  }
 ],
 "metadata": {
  "kernelspec": {
   "display_name": "PyCharm (Accident-predictor)",
   "language": "python",
   "name": "pycharm-a42563eb"
  },
  "language_info": {
   "codemirror_mode": {
    "name": "ipython",
    "version": 3
   },
   "file_extension": ".py",
   "mimetype": "text/x-python",
   "name": "python",
   "nbconvert_exporter": "python",
   "pygments_lexer": "ipython3",
   "version": "3.7.7"
  }
 },
 "nbformat": 4,
 "nbformat_minor": 1
}