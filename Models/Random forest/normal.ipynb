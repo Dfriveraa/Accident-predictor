{
 "cells": [
  {
   "cell_type": "markdown",
   "metadata": {
    "collapsed": true,
    "pycharm": {
     "name": "#%% md\n"
    }
   },
   "source": [
    "## Modulo designado para la creación de el modelo de Random Forest\n",
    "En este punto los datasets ya se encuentran en archivos .csv dentro de la carpeta\n",
    "\"CSV ready to model\"\n"
   ]
  },
  {
   "cell_type": "code",
   "execution_count": 7,
   "metadata": {
    "pycharm": {
     "name": "#%%\n"
    }
   },
   "outputs": [],
   "source": [
    "import pandas as pd\n",
    "from scikitplot.metrics import plot_roc, plot_roc_curve\n",
    "from sklearn.preprocessing import LabelEncoder\n",
    "import numpy as np\n",
    "import scikitplot as skplt#Esta librería toca instalarla \"conda install -c conda-forge scikit-plot\"\n",
    "import time\n",
    "from sklearn.ensemble import RandomForestClassifier\n",
    "from sklearn.model_selection import train_test_split\n",
    "from sklearn.metrics import accuracy_score, recall_score, precision_score, f1_score, roc_auc_score, roc_curve\n",
    "df=pd.read_csv('../../CSV ready to model/withoutPCA.csv')"
   ]
  },
  {
   "cell_type": "markdown",
   "metadata": {
    "pycharm": {
     "name": "#%% md\n"
    }
   },
   "source": [
    "Label encoder para la columna a predecir"
   ]
  },
  {
   "cell_type": "code",
   "execution_count": 8,
   "metadata": {},
   "outputs": [
    {
     "data": {
      "text/plain": [
       "HERIDO        60201\n",
       "SOLO DAÑOS    52790\n",
       "MUERTO          668\n",
       "Name: GRAVEDAD, dtype: int64"
      ]
     },
     "execution_count": 8,
     "metadata": {},
     "output_type": "execute_result"
    }
   ],
   "source": [
    "df['GRAVEDAD'].value_counts()"
   ]
  },
  {
   "cell_type": "code",
   "execution_count": 9,
   "metadata": {
    "pycharm": {
     "name": "#%%\n"
    }
   },
   "outputs": [],
   "source": [
    "le=LabelEncoder()\n",
    "df['GRAVEDAD']=df.loc[:,['GRAVEDAD']].apply(le.fit_transform)"
   ]
  },
  {
   "cell_type": "code",
   "execution_count": 10,
   "metadata": {
    "pycharm": {
     "name": "#%%\n"
    }
   },
   "outputs": [],
   "source": [
    "train,test = [x for _, x in df.groupby(df['PERIODO'] > 2018)]"
   ]
  },
  {
   "cell_type": "code",
   "execution_count": 11,
   "metadata": {
    "pycharm": {
     "name": "#%%\n"
    }
   },
   "outputs": [],
   "source": [
    "train=train.drop(['PERIODO'],axis=1)\n",
    "test=test.drop(['PERIODO'],axis=1)\n",
    "y_train = train['GRAVEDAD'].values\n",
    "x_train = (train.drop(['GRAVEDAD'], axis = 1)).values\n",
    "y_test = test['GRAVEDAD'].values\n",
    "x_test=(test.drop(['GRAVEDAD'],axis=1)).values\n"
   ]
  },
  {
   "cell_type": "code",
   "execution_count": 12,
   "metadata": {
    "pycharm": {
     "name": "#%%\n"
    }
   },
   "outputs": [],
   "source": [
    "\n",
    "def classification_error(y_est, y_real):\n",
    "    err = 0\n",
    "    for y_e, y_r in zip(y_est, y_real):\n",
    "\n",
    "        if y_e != y_r:\n",
    "            err += 1\n",
    "\n",
    "    return err/np.size(y_est)\n"
   ]
  },
  {
   "cell_type": "code",
   "execution_count": 13,
   "metadata": {
    "pycharm": {
     "name": "#%%\n"
    }
   },
   "outputs": [],
   "source": [
    "def model_RF(x,y,estimadores, caracteristicas, impresion = False):\n",
    "\n",
    "    tiempo_i = time.time()\n",
    "    accuracy_list = np.zeros([4])\n",
    "    precision_list = np.zeros([4,3])\n",
    "    recall_list = np.zeros([4,3])\n",
    "    f_list = np.zeros([4,3])\n",
    "    errores = np.zeros(4)\n",
    "\n",
    "    RF = RandomForestClassifier(n_estimators=estimadores, max_features =caracteristicas, n_jobs = -1)\n",
    "    for j in range(4):\n",
    "        Xtrain, Xtest, Ytrain, Ytest = train_test_split(x, y, test_size=0.25) # Modificar metodología de validación\n",
    "\n",
    "        RF.fit(Xtrain, Ytrain)\n",
    "        pred = RF.predict(Xtest)\n",
    "\n",
    "        #code for calculating accuracy\n",
    "        _accuracy_ = accuracy_score(Ytest, pred, normalize=True)\n",
    "        accuracy_list[j] = _accuracy_\n",
    "\n",
    "        #code for calculating recall\n",
    "        _recalls_ = recall_score(Ytest, pred, average=None)\n",
    "        recall_list[j] = _recalls_\n",
    "\n",
    "        #code for calculating precision\n",
    "        _precisions_ = precision_score(Ytest, pred, average=None)\n",
    "        precision_list[j] = _precisions_\n",
    "\n",
    "        _f_score_ = f1_score(Ytest, pred, average=None)\n",
    "        f_list[j] = _f_score_\n",
    "\n",
    "\n",
    "        errores[j] = classification_error(pred, Ytest)\n",
    "\n",
    "\n",
    "    if impresion == True:\n",
    "        #Curva ROC\n",
    "\n",
    "        rf_probs = RF.predict_proba(Xtest)\n",
    "        print(rf_probs)\n",
    "        plot_roc(Xtest, Ytest, rf_probs, \"Random Forest\")\n",
    "        auc = roc_auc_score(Ytest, pred)\n",
    "        print('AUC: %.2f' % auc)\n",
    "        fpr, tpr, thresholds = roc_curve(Ytest, pred)\n",
    "        plot_roc_curve(fpr, tpr)\n",
    "        #Matriz de confusión\n",
    "        skplt.metrics.plot_confusion_matrix(Ytest, pred, normalize=True)\n",
    "\n",
    "    return str(np.mean(accuracy_list)), str(np.std(accuracy_list)), str(np.mean(recall_list)), str(np.std(recall_list)), str(np.mean(precision_list)), str(np.std(precision_list)),  str(np.mean(f_list)), str(np.std(f_list)), str(np.mean(errores)), str(np.std(errores)), str(time.time()-tiempo_i)\n"
   ]
  },
  {
   "cell_type": "markdown",
   "metadata": {},
   "source": [
    "Otra prueba con train test split, o sea que los datos no se dividen por periodos"
   ]
  },
  {
   "cell_type": "code",
   "execution_count": 14,
   "metadata": {
    "pycharm": {
     "name": "#%%\n"
    }
   },
   "outputs": [],
   "source": [
    "otherDF=df.drop(['PERIODO'],axis=1)"
   ]
  },
  {
   "cell_type": "code",
   "execution_count": 21,
   "metadata": {
    "pycharm": {
     "name": "#%%\n"
    }
   },
   "outputs": [],
   "source": [
    "y=otherDF['GRAVEDAD']\n",
    "x=otherDF.drop(['GRAVEDAD'],axis=1)\n"
   ]
  },
  {
   "cell_type": "code",
   "execution_count": 17,
   "metadata": {
    "pycharm": {
     "name": "#%%\n"
    }
   },
   "outputs": [],
   "source": [
    "Acc, IntAcc, Sen, IntSen, Pre, IntPre, f, IntF, error, stdError, tiempo = model_RF(x=x,y=y,estimadores=100,caracteristicas= 9, impresion = False)"
   ]
  },
  {
   "cell_type": "code",
   "execution_count": 18,
   "metadata": {},
   "outputs": [
    {
     "name": "stdout",
     "output_type": "stream",
     "text": [
      "Eficiencia 0.7506246700686259  Int_Eficiencia 0.0007649855751991657  Sensibilidad 0.5762942587381871  Int_Sensibilidad 0.2594819485136235  Precision 0.7291460350674016  Int_Precision 0.06435664084017832  F-Score 0.6098795298585189  Int_F-Score 0.2013471457391574  Error_Prueba 0.2493753299313743  Int_Error 0.000764985575199164  Tiempo ejecución 38.78389000892639\n"
     ]
    }
   ],
   "source": [
    "# Métodos de sobremuestreo oversampling utilizar mediana en lugar y usar min max\n",
    "print('Eficiencia',Acc, ' Int_Eficiencia', IntAcc,' Sensibilidad', Sen, ' Int_Sensibilidad',IntSen,' Precision', Pre, ' Int_Precision',IntPre,' F-Score', f, ' Int_F-Score',IntF,' Error_Prueba', error,' Int_Error', stdError,' Tiempo ejecución', tiempo)"
   ]
  },
  {
   "cell_type": "code",
   "execution_count": null,
   "metadata": {
    "pycharm": {
     "name": "#%%\n"
    }
   },
   "outputs": [],
   "source": [
    "import qgrid #Este paquete toca instalarlo o f\n",
    "import pandas as pd\n",
    "import numpy as np\n",
    "pd.options.mode.chained_assignment = None\n",
    "randn = np.random.randn\n",
    "df_types = pd.DataFrame({\n",
    "    'Numero de arboles' : pd.Series([5,5,5,5,5,\n",
    "                                     10,10,10,10,10,\n",
    "                                     20,20,20,20,20,\n",
    "                                     50,50,50,50,50,\n",
    "                                     100,100,100,100,100]),\n",
    "    'Variables analizadas por nodo' : pd.Series([5,6,7,8,9,\n",
    "                                                 5,6,7,8,9,\n",
    "                                                 5,6,7,8,9,\n",
    "                                                 5,6,7,8,9,\n",
    "                                                 5,6,7,8,9])})\n",
    "df_types[\"Eficiencia\"] = \"\"\n",
    "df_types[\"Int_Eficiencia\"] = \"\"\n",
    "df_types[\"Sensibilidad\"] = \"\"\n",
    "df_types[\"Int_Sensibilidad\"] = \"\"\n",
    "df_types[\"Precision\"] = \"\"\n",
    "df_types[\"Int_Precision\"] = \"\"\n",
    "df_types[\"F-Score\"] = \"\"\n",
    "df_types[\"Int_F-Score\"] = \"\"\n",
    "\n",
    "df_types[\"Error_Prueba\"] = \"\"\n",
    "df_types[\"Int_error\"] = \"\"\n",
    "df_types[\"Tiempo de ejecución\"] = \"\"\n",
    "df_types.set_index(['Numero de arboles','Variables analizadas por nodo'], inplace=True)\n",
    "\n",
    "for n, k in df_types.index:\n",
    "    Acc, IntAcc, Sen, IntSen, Pre, IntPre, f, IntF, error, stdError, tiempo = model_RF(x,y,n, k, impresion = False)\n",
    "    df_types[\"Eficiencia\"][n,k] = Acc\n",
    "    df_types[\"Int_Eficiencia\"][n,k] = IntAcc\n",
    "    df_types[\"Sensibilidad\"][n,k] = Sen\n",
    "    df_types[\"Int_Sensibilidad\"][n,k] = IntSen\n",
    "    df_types[\"Precision\"][n,k] = Pre\n",
    "    df_types[\"Int_Precision\"][n,k] = IntPre\n",
    "    df_types[\"F-Score\"][n,k] = f\n",
    "    df_types[\"Int_F-Score\"][n,k] = IntF\n",
    "    df_types[\"Error_Prueba\"][n,k] = error\n",
    "    df_types[\"Int_error\"][n,k] = stdError\n",
    "    df_types[\"Tiempo de ejecución\"][n,k] = tiempo\n",
    "\n",
    "\n",
    "#df_types.sort_index(inplace=True)\n",
    "qgrid_widget = qgrid.show_grid(df_types, show_toolbar=False)\n",
    "qgrid_widget"
   ]
  },
  {
   "cell_type": "code",
   "execution_count": null,
   "metadata": {
    "pycharm": {
     "name": "#%%\n"
    }
   },
   "outputs": [],
   "source": [
    "\n"
   ]
  }
 ],
 "metadata": {
  "kernelspec": {
   "display_name": "PyCharm (Accident-predictor)",
   "language": "python",
   "name": "pycharm-a42563eb"
  },
  "language_info": {
   "codemirror_mode": {
    "name": "ipython",
    "version": 3
   },
   "file_extension": ".py",
   "mimetype": "text/x-python",
   "name": "python",
   "nbconvert_exporter": "python",
   "pygments_lexer": "ipython3",
   "version": "3.7.7"
  }
 },
 "nbformat": 4,
 "nbformat_minor": 1
}