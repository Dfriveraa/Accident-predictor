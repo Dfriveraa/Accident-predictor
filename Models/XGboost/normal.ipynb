{
 "cells": [
  {
   "cell_type": "markdown",
   "metadata": {
    "collapsed": true,
    "pycharm": {
     "name": "#%% md\n"
    }
   },
   "source": [
    "## Modulo designado para la creación de el modelo usando XGBOOST\n",
    "En este punto los datasets ya se encuentran en archivos .csv dentro de la carpeta\n",
    "\"CSV ready to model\"\n"
   ]
  },
  {
   "cell_type": "code",
   "execution_count": 19,
   "metadata": {
    "pycharm": {
     "name": "#%%\n"
    }
   },
   "outputs": [],
   "source": [
    "import pandas as pd\n",
    "import numpy as np\n",
    "from xgboost import XGBClassifier #esta parcera toca instalarla pip install xgboost\n",
    "from sklearn.preprocessing import LabelEncoder\n",
    "import qgrid\n",
    "from scikitplot.metrics import plot_roc, plot_roc_curve\n",
    "from sklearn.model_selection import train_test_split\n",
    "import scikitplot as skplt#Esta librería toca instalarla \"conda install -c conda-forge scikit-plot\"\n",
    "import time\n",
    "import qgrid\n",
    "\n",
    "from sklearn.metrics import accuracy_score, recall_score, precision_score, f1_score, roc_auc_score, roc_curve\n",
    "df=pd.read_csv('../../CSV ready to model/withoutPCA.csv')"
   ]
  },
  {
   "cell_type": "markdown",
   "metadata": {
    "pycharm": {
     "name": "#%% md\n"
    }
   },
   "source": [
    "Label encoder para la columna a predecir"
   ]
  },
  {
   "cell_type": "code",
   "execution_count": 20,
   "metadata": {
    "pycharm": {
     "name": "#%%\n"
    }
   },
   "outputs": [
    {
     "name": "stdout",
     "output_type": "stream",
     "text": [
      "Xgboost\n"
     ]
    }
   ],
   "source": [
    "print('Xgboost')\n",
    "le=LabelEncoder()\n",
    "df['GRAVEDAD']=df.loc[:,['GRAVEDAD']].apply(le.fit_transform)\n",
    "y=df['GRAVEDAD']\n",
    "x=df.drop(['GRAVEDAD'],axis=1)"
   ]
  },
  {
   "cell_type": "code",
   "execution_count": 21,
   "metadata": {
    "pycharm": {
     "name": "#%%\n"
    }
   },
   "outputs": [],
   "source": [
    "def classification_error(y_est, y_real):\n",
    "    err = 0\n",
    "    for y_e, y_r in zip(y_est, y_real):\n",
    "\n",
    "        if y_e != y_r:\n",
    "            err += 1\n",
    "\n",
    "    return err/np.size(y_est)"
   ]
  },
  {
   "cell_type": "code",
   "execution_count": 22,
   "metadata": {
    "pycharm": {
     "name": "#%%\n"
    }
   },
   "outputs": [],
   "source": [
    "def model_XG(x,y,estimadores, caracteristicas, impresion = False,normalize=False):\n",
    "\n",
    "    tiempo_i = time.time()\n",
    "    accuracy_list = np.zeros([4])\n",
    "    precision_list = np.zeros([4,3])\n",
    "    recall_list = np.zeros([4,3])\n",
    "    f_list = np.zeros([4,3])\n",
    "    errores = np.zeros(4)\n",
    "\n",
    "    XG = XGBClassifier(n_estimators=estimadores, max_features =caracteristicas, n_jobs = -1)\n",
    "    for j in range(4):\n",
    "        Xtrain, Xtest, Ytrain, Ytest = train_test_split(x, y, test_size=0.25) # Modificar metodología de validación\n",
    "\n",
    "        XG.fit(Xtrain, Ytrain)\n",
    "        pred = XG.predict(Xtest)\n",
    "\n",
    "        #code for calculating accuracy\n",
    "        _accuracy_ = accuracy_score(Ytest, pred, normalize=True)\n",
    "        accuracy_list[j] = _accuracy_\n",
    "\n",
    "        #code for calculating recall\n",
    "        _recalls_ = recall_score(Ytest, pred, average=None)\n",
    "        recall_list[j] = _recalls_\n",
    "\n",
    "        #code for calculating precision\n",
    "        _precisions_ = precision_score(Ytest, pred, average=None)\n",
    "        precision_list[j] = _precisions_\n",
    "\n",
    "        _f_score_ = f1_score(Ytest, pred, average=None)\n",
    "        f_list[j] = _f_score_\n",
    "\n",
    "\n",
    "        errores[j] = classification_error(pred, Ytest)\n",
    "\n",
    "\n",
    "    if impresion == True:\n",
    "        #Curva ROC\n",
    "        #\n",
    "        # rf_probs = XG.predict_proba(Xtest)\n",
    "        # print(rf_probs)\n",
    "        # plot_roc(Xtest, Ytest, rf_probs, \"Random Forest\")\n",
    "        # auc = roc_auc_score(Ytest, pred)\n",
    "        # print('AUC: %.2f' % auc)\n",
    "        # fpr, tpr, thresholds = roc_curve(Ytest, pred)\n",
    "        # plot_roc_curve(fpr, tpr)\n",
    "        #Matriz de confusión\n",
    "        skplt.metrics.plot_confusion_matrix(Ytest, pred,normalize)\n",
    "    result={'Eficiencia':np.mean(accuracy_list),'Int_Eficiencia':np.std(accuracy_list),\n",
    "            'Sensibilidad':np.mean(recall_list),'Int_Sensibilidad':np.std(recall_list),\n",
    "            'Precisión':np.mean(precision_list),'Int Precisión':np.std(precision_list),\n",
    "            'F':np.mean(f_list),'Int_F':np.std(f_list),\n",
    "            'Error':np.mean(errores),'Int_Error':np.std(errores),\n",
    "            'Tiempo':time.time()-tiempo_i\n",
    "            }\n",
    "    return  result\n"
   ]
  },
  {
   "cell_type": "code",
   "execution_count": 23,
   "metadata": {
    "pycharm": {
     "name": "#%%\n"
    }
   },
   "outputs": [],
   "source": [
    "result = model_XG(x=x,y=y,estimadores=100,caracteristicas= 9, impresion = False,normalize=False)"
   ]
  },
  {
   "cell_type": "code",
   "execution_count": 24,
   "metadata": {
    "pycharm": {
     "name": "#%%\n"
    }
   },
   "outputs": [
    {
     "name": "stdout",
     "output_type": "stream",
     "text": [
      "{'Eficiencia': 0.7724353334506422, 'Int_Eficiencia': 0.002317695824434553, 'Sensibilidad': 0.5941378116465531, 'Int_Sensibilidad': 0.29318773328390746, 'Precisión': 0.8215158665302941, 'Int Precisión': 0.09840781887035811, 'F': 0.6285918262301246, 'Int_F': 0.2044828129410665, 'Error': 0.22756466654935772, 'Int_Error': 0.002317695824434558, 'Tiempo': 78.74295806884766}\n"
     ]
    }
   ],
   "source": [
    "print(result)"
   ]
  },
  {
   "cell_type": "code",
   "execution_count": null,
   "metadata": {
    "pycharm": {
     "name": "#%%\n"
    }
   },
   "outputs": [],
   "source": [
    "pd.options.mode.chained_assignment = None\n",
    "randn = np.random.randn\n",
    "df_types = pd.DataFrame({\n",
    "    'Numero de arboles' : pd.Series([5,5,5,5,5,\n",
    "                                     10,10,10,10,10,\n",
    "                                     20,20,20,20,20,\n",
    "                                     50,50,50,50,50,\n",
    "                                     100,100,100,100,100]),\n",
    "    'Variables analizadas por nodo' : pd.Series([5,6,7,8,9,\n",
    "                                                 5,6,7,8,9,\n",
    "                                                 5,6,7,8,9,\n",
    "                                                 5,6,7,8,9,\n",
    "                                                 5,6,7,8,9])})\n",
    "df_types[\"Eficiencia\"] = \"\"\n",
    "df_types[\"Int_Eficiencia\"] = \"\"\n",
    "df_types[\"Sensibilidad\"] = \"\"\n",
    "df_types[\"Int_Sensibilidad\"] = \"\"\n",
    "df_types[\"Precision\"] = \"\"\n",
    "df_types[\"Int_Precision\"] = \"\"\n",
    "df_types[\"F-Score\"] = \"\"\n",
    "df_types[\"Int_F-Score\"] = \"\"\n",
    "\n",
    "df_types[\"Error_Prueba\"] = \"\"\n",
    "df_types[\"Int_error\"] = \"\"\n",
    "df_types[\"Tiempo de ejecución\"] = \"\"\n",
    "df_types.set_index(['Numero de arboles','Variables analizadas por nodo'], inplace=True)\n",
    "\n",
    "for n, k in df_types.index:\n",
    "    result = model_XG(x,y,n, k, impresion = False)\n",
    "    df_types[\"Eficiencia\"][n,k] = result['Eficiencia']\n",
    "    df_types[\"Int_Eficiencia\"][n,k] = result['Int_Eficiencia']\n",
    "    df_types[\"Sensibilidad\"][n,k] = result['Sensibilidad']\n",
    "    df_types[\"Int_Sensibilidad\"][n,k] = result['Int_Sensibilidad']\n",
    "    df_types[\"Precision\"][n,k] = result['Precisión']\n",
    "    df_types[\"Int_Precision\"][n,k] = result['Precisión']\n",
    "    df_types[\"F-Score\"][n,k] = result['F']\n",
    "    df_types[\"Int_F-Score\"][n,k] = result['Int_F']\n",
    "    df_types[\"Error_Prueba\"][n,k] = result['Error']\n",
    "    df_types[\"Int_error\"][n,k] = result['Int_Error']\n",
    "    df_types[\"Tiempo de ejecución\"][n,k] = result['Tiempo']\n",
    "\n",
    "\n",
    "#df_types.sort_index(inplace=True)\n",
    "\n"
   ]
  },
  {
   "cell_type": "code",
   "execution_count": null,
   "metadata": {},
   "outputs": [],
   "source": [
    "qgrid_widget = qgrid.show_grid(df_types, show_toolbar=False)\n",
    "qgrid_widget"
   ]
  },
  {
   "cell_type": "code",
   "execution_count": null,
   "metadata": {},
   "outputs": [],
   "source": []
  }
 ],
 "metadata": {
  "kernelspec": {
   "display_name": "PyCharm (Accident-predictor)",
   "language": "python",
   "name": "pycharm-a42563eb"
  },
  "language_info": {
   "codemirror_mode": {
    "name": "ipython",
    "version": 3
   },
   "file_extension": ".py",
   "mimetype": "text/x-python",
   "name": "python",
   "nbconvert_exporter": "python",
   "pygments_lexer": "ipython3",
   "version": "3.7.7"
  }
 },
 "nbformat": 4,
 "nbformat_minor": 1
}
