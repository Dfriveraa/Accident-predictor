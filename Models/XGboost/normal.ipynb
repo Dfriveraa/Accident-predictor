{
 "cells": [
  {
   "cell_type": "markdown",
   "metadata": {
    "collapsed": true,
    "pycharm": {
     "name": "#%% md\n"
    }
   },
   "source": [
    "## Modulo designado para la creación de el modelo usando XGBOOST\n",
    "En este punto los datasets ya se encuentran en archivos .csv dentro de la carpeta\n",
    "\"CSV ready to model\"\n"
   ]
  },
  {
   "cell_type": "code",
   "execution_count": 5,
   "metadata": {
    "pycharm": {
     "name": "#%%\n"
    }
   },
   "outputs": [],
   "source": [
    "import pandas as pd\n",
    "import numpy as np\n",
    "from xgboost import XGBClassifier #esta parcera toca instalarla pip install xgboost\n",
    "from sklearn.preprocessing import LabelEncoder\n",
    "import qgrid\n",
    "from sklearn.model_selection import train_test_split\n",
    "import scikitplot as skplt#Esta librería toca instalarla \"conda install -c conda-forge scikit-plot\"\n",
    "import time\n",
    "import sys\n",
    "sys.path.append('..')\n",
    "from funciones import classification_error, grafica_roc,sumar\n",
    "\n",
    "from sklearn.metrics import accuracy_score, recall_score, precision_score, f1_score, roc_auc_score, roc_curve\n",
    "df=pd.read_csv('../../CSV ready to model/withoutPCA.csv')"
   ]
  },
  {
   "cell_type": "code",
   "execution_count": 7,
   "outputs": [
    {
     "name": "stdout",
     "output_type": "stream",
     "text": [
      "<function grafica_roc at 0x7fc348570830>\n"
     ]
    }
   ],
   "source": [
    "print(grafica_roc)"
   ],
   "metadata": {
    "collapsed": false,
    "pycharm": {
     "name": "#%%\n"
    }
   }
  },
  {
   "cell_type": "markdown",
   "metadata": {
    "pycharm": {
     "name": "#%% md\n"
    }
   },
   "source": [
    "Label encoder para la columna a predecir"
   ]
  },
  {
   "cell_type": "code",
   "execution_count": 8,
   "metadata": {
    "pycharm": {
     "name": "#%%\n"
    }
   },
   "outputs": [],
   "source": [
    "le=LabelEncoder()\n",
    "df['GRAVEDAD']=df.loc[:,['GRAVEDAD']].apply(le.fit_transform)\n",
    "y=df['GRAVEDAD']\n",
    "x=df.drop(['GRAVEDAD','PERIODO'],axis=1)"
   ]
  },
  {
   "cell_type": "code",
   "execution_count": 49,
   "metadata": {
    "pycharm": {
     "name": "#%%\n"
    }
   },
   "outputs": [],
   "source": [
    "def model_XG(x,y,estimadores, caracteristicas, impresion = False,normalize=False):\n",
    "    \n",
    "    tiempo_i = time.time()\n",
    "    accuracy_list = np.zeros([4])\n",
    "    precision_list = np.zeros([4,3])\n",
    "    recall_list = np.zeros([4,3])\n",
    "    f_list = np.zeros([4,3])\n",
    "    errores = np.zeros(4)\n",
    "  \n",
    "    XG = XGBClassifier(n_estimators=estimadores, max_features =caracteristicas, n_jobs = -1)\n",
    "    for j in range(4):\n",
    "        Xtrain, Xtest, Ytrain, Ytest = train_test_split(x, y, test_size=0.25) # Modificar metodología de validación\n",
    "\n",
    "        XG.fit(Xtrain, Ytrain)\n",
    "        pred = XG.predict(Xtest)\n",
    "\n",
    "        #code for calculating accuracy\n",
    "        _accuracy_ = accuracy_score(Ytest, pred, normalize=True)\n",
    "        accuracy_list[j] = _accuracy_\n",
    "\n",
    "        #code for calculating recall\n",
    "        _recalls_ = recall_score(Ytest, pred, average=None)\n",
    "        recall_list[j] = _recalls_\n",
    "\n",
    "        #code for calculating precision\n",
    "        _precisions_ = precision_score(Ytest, pred, average=None)\n",
    "        precision_list[j] = _precisions_\n",
    "\n",
    "        _f_score_ = f1_score(Ytest, pred, average=None)\n",
    "        f_list[j] = _f_score_\n",
    "\n",
    "\n",
    "        errores[j] = classification_error(pred, Ytest)\n",
    "\n",
    "    if impresion == True:\n",
    "        skplt.metrics.plot_confusion_matrix(Ytest, pred)\n",
    "        grafica_roc(model=XG,Xtest=Xtest,Ytest=Ytest)\n",
    "\n",
    "    result={'Eficiencia':np.mean(accuracy_list),'Int_Eficiencia':np.std(accuracy_list),\n",
    "            'Sensibilidad':np.mean(recall_list),'Int_Sensibilidad':np.std(recall_list),\n",
    "            'Precisión':np.mean(precision_list),'Int Precisión':np.std(precision_list),\n",
    "            'F':np.mean(f_list),'Int_F':np.std(f_list),\n",
    "            'Error':np.mean(errores),'Int_Error':np.std(errores),\n",
    "            'Tiempo':time.time()-tiempo_i\n",
    "            }\n",
    "    return  result\n"
   ]
  },
  {
   "cell_type": "code",
   "execution_count": 50,
   "metadata": {
    "pycharm": {
     "name": "#%%\n"
    }
   },
   "outputs": [
    {
     "name": "stdout",
     "output_type": "stream",
     "text": [
      "53534     0\n",
      "47459     0\n",
      "113569    0\n",
      "66469     2\n",
      "29825     2\n",
      "         ..\n",
      "67530     0\n",
      "35622     2\n",
      "109188    0\n",
      "60537     2\n",
      "39743     2\n",
      "Name: GRAVEDAD, Length: 28415, dtype: int64\n"
     ]
    },
    {
     "data": {
      "text/plain": "<Figure size 432x288 with 2 Axes>",
      "image/png": "[encoded data removed]"
     },
     "metadata": {
      "needs_background": "light"
     },
     "output_type": "display_data"
    }
   ],
   "source": [
    "result = model_XG(x=x,y=y,estimadores=1,caracteristicas= 9, impresion = True,normalize=False)"
   ]
  },
  {
   "cell_type": "code",
   "execution_count": 44,
   "metadata": {
    "pycharm": {
     "name": "#%%\n"
    }
   },
   "outputs": [
    {
     "name": "stdout",
     "output_type": "stream",
     "text": [
      "{'Eficiencia': 0.767649128981172, 'Int_Eficiencia': 0.00162980013673762, 'Sensibilidad': 0.5836725719081709, 'Int_Sensibilidad': 0.32099555018208076, 'Precisión': 0.8524393557133233, 'Int Precisión': 0.1272511812676317, 'F': 0.6119278490824656, 'Int_F': 0.22005734468873897, 'Error': 0.2323508710188281, 'Int_Error': 0.0016298001367376267, 'Tiempo': 1.2288610935211182}\n"
     ]
    }
   ],
   "source": [
    "print(result)"
   ]
  },
  {
   "cell_type": "code",
   "execution_count": null,
   "metadata": {
    "pycharm": {
     "name": "#%%\n"
    }
   },
   "outputs": [],
   "source": [
    "pd.options.mode.chained_assignment = None\n",
    "randn = np.random.randn\n",
    "df_types = pd.DataFrame({\n",
    "    'Numero de arboles' : pd.Series([5,5,5,5,5,\n",
    "                                     10,10,10,10,10,\n",
    "                                     20,20,20,20,20,\n",
    "                                     50,50,50,50,50,\n",
    "                                     100,100,100,100,100]),\n",
    "    'Variables analizadas por nodo' : pd.Series([5,6,7,8,9,\n",
    "                                                 5,6,7,8,9,\n",
    "                                                 5,6,7,8,9,\n",
    "                                                 5,6,7,8,9,\n",
    "                                                 5,6,7,8,9])})\n",
    "df_types[\"Eficiencia\"] = \"\"\n",
    "df_types[\"Int_Eficiencia\"] = \"\"\n",
    "df_types[\"Sensibilidad\"] = \"\"\n",
    "df_types[\"Int_Sensibilidad\"] = \"\"\n",
    "df_types[\"Precision\"] = \"\"\n",
    "df_types[\"Int_Precision\"] = \"\"\n",
    "df_types[\"F-Score\"] = \"\"\n",
    "df_types[\"Int_F-Score\"] = \"\"\n",
    "\n",
    "df_types[\"Error_Prueba\"] = \"\"\n",
    "df_types[\"Int_error\"] = \"\"\n",
    "df_types[\"Tiempo de ejecución\"] = \"\"\n",
    "df_types.set_index(['Numero de arboles','Variables analizadas por nodo'], inplace=True)\n",
    "\n",
    "for n, k in df_types.index:\n",
    "    result = model_XG(x,y,n, k, impresion = False)\n",
    "    df_types[\"Eficiencia\"][n,k] = result['Eficiencia']\n",
    "    df_types[\"Int_Eficiencia\"][n,k] = result['Int_Eficiencia']\n",
    "    df_types[\"Sensibilidad\"][n,k] = result['Sensibilidad']\n",
    "    df_types[\"Int_Sensibilidad\"][n,k] = result['Int_Sensibilidad']\n",
    "    df_types[\"Precision\"][n,k] = result['Precisión']\n",
    "    df_types[\"Int_Precision\"][n,k] = result['Precisión']\n",
    "    df_types[\"F-Score\"][n,k] = result['F']\n",
    "    df_types[\"Int_F-Score\"][n,k] = result['Int_F']\n",
    "    df_types[\"Error_Prueba\"][n,k] = result['Error']\n",
    "    df_types[\"Int_error\"][n,k] = result['Int_Error']\n",
    "    df_types[\"Tiempo de ejecución\"][n,k] = result['Tiempo']\n",
    "\n",
    "\n",
    "#df_types.sort_index(inplace=True)\n",
    "\n"
   ]
  },
  {
   "cell_type": "code",
   "execution_count": null,
   "metadata": {},
   "outputs": [],
   "source": [
    "qgrid_widget = qgrid.show_grid(df_types, show_toolbar=False)\n",
    "qgrid_widget"
   ]
  },
  {
   "cell_type": "code",
   "execution_count": 0,
   "metadata": {
    "pycharm": {
     "name": "#%%\n"
    }
   },
   "outputs": [],
   "source": []
  }
 ],
 "metadata": {
  "kernelspec": {
   "display_name": "PyCharm (Accident-predictor)",
   "language": "python",
   "name": "pycharm-a42563eb"
  },
  "language_info": {
   "codemirror_mode": {
    "name": "ipython",
    "version": 3
   },
   "file_extension": ".py",
   "mimetype": "text/x-python",
   "name": "python",
   "nbconvert_exporter": "python",
   "pygments_lexer": "ipython3",
   "version": "3.7.7"
  }
 },
 "nbformat": 4,
 "nbformat_minor": 1
}