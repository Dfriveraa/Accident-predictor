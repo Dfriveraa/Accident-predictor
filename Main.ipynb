{
 "cells": [
  {
   "cell_type": "code",
   "execution_count": null,
   "outputs": [],
   "source": [
    "import pandas as pd\n",
    "import smote_variants as sv\n",
    "import matplotlib.pyplot as plt\n",
    "import numpy as np\n",
    "from sklearn.preprocessing import LabelEncoder\n",
    "from sklearn.model_selection import train_test_split\n",
    "from sklearn.preprocessing import LabelEncoder\n",
    "from Models.funciones import grafica_roc,classification_error\n",
    "from xgboost import XGBClassifier #esta parcera toca instalarla pip install xgboost\n",
    "from sklearn.metrics import accuracy_score, recall_score, precision_score, f1_score, roc_auc_score, roc_curve\n",
    "import scikitplot as skplt#Esta librería toca instalarla \"conda install -c conda-forge scikit-plot\"\n",
    "\n",
    "\n",
    "import time"
   ],
   "metadata": {
    "collapsed": false,
    "pycharm": {
     "name": "#%%\n"
    }
   }
  },
  {
   "cell_type": "code",
   "execution_count": null,
   "outputs": [],
   "source": [
    "df1=pd.read_csv('./CSV ready to model/withoutPCA.csv')\n",
    "df2=pd.read_csv('./CSV ready to model/withoutPCA_minmax.csv')"
   ],
   "metadata": {
    "collapsed": false,
    "pycharm": {
     "name": "#%%\n"
    }
   }
  },
  {
   "cell_type": "markdown",
   "source": [
    "Según el método wraper la mejor combinación de características es con 8 características, correspondientes\n",
    "a (0, 1, 2, 3, 4, 6, 7, 8), de acá en adelante se van a hacer 4 modelos de XGBOOST\n",
    "* 8 características y standar scaler\n",
    "* 8 características y standar scaler\n",
    "* 9 características y min max\n",
    "* 9 características y min max"
   ],
   "metadata": {
    "collapsed": false
   }
  },
  {
   "cell_type": "code",
   "execution_count": null,
   "outputs": [],
   "source": [
    "le=LabelEncoder()\n",
    "df1['GRAVEDAD']=df1.loc[:,['GRAVEDAD']].apply(le.fit_transform)\n",
    "df2['GRAVEDAD']=df2.loc[:,['GRAVEDAD']].apply(le.fit_transform)"
   ],
   "metadata": {
    "collapsed": false,
    "pycharm": {
     "name": "#%%\n"
    }
   }
  },
  {
   "cell_type": "markdown",
   "source": [
    "   ## Min max scaler\n",
    "   "
   ],
   "metadata": {
    "collapsed": false
   }
  },
  {
   "cell_type": "code",
   "execution_count": null,
   "outputs": [],
   "source": [
    "y_minmax9=df2['GRAVEDAD']\n",
    "x_minmax9=df2.drop(['GRAVEDAD','PERIODO'],axis=1)\n",
    "y_minmax8=df2['GRAVEDAD']\n",
    "x_minmax8=df2.drop(['GRAVEDAD','PERIODO','COMUNA'],axis=1)"
   ],
   "metadata": {
    "collapsed": false,
    "pycharm": {
     "name": "#%%\n"
    }
   }
  },
  {
   "cell_type": "code",
   "execution_count": null,
   "outputs": [],
   "source": [
    "def model_XG(x,y,estimadores, caracteristicas, impresion = False,normalize=False):\n",
    "    \n",
    "    tiempo_i = time.time()\n",
    "    accuracy_list = np.zeros([4])\n",
    "    precision_list = np.zeros([4,3])\n",
    "    recall_list = np.zeros([4,3])\n",
    "    f_list = np.zeros([4,3])\n",
    "    errores = np.zeros(4)\n",
    "  \n",
    "    XG = XGBClassifier(n_estimators=estimadores, max_features =caracteristicas, n_jobs = -1)\n",
    "    for j in range(4):\n",
    "        Xtrain, Xtest, Ytrain, Ytest = train_test_split(x, y, test_size=0.25) # Modificar metodología de validación\n",
    "\n",
    "        XG.fit(Xtrain, Ytrain)\n",
    "        pred = XG.predict(Xtest)\n",
    "\n",
    "        #code for calculating accuracy\n",
    "        _accuracy_ = accuracy_score(Ytest, pred, normalize=True)\n",
    "        accuracy_list[j] = _accuracy_\n",
    "\n",
    "        #code for calculating recall\n",
    "        _recalls_ = recall_score(Ytest, pred, average=None)\n",
    "        recall_list[j] = _recalls_\n",
    "\n",
    "        #code for calculating precision\n",
    "        _precisions_ = precision_score(Ytest, pred, average=None)\n",
    "        precision_list[j] = _precisions_\n",
    "\n",
    "        _f_score_ = f1_score(Ytest, pred, average=None)\n",
    "        f_list[j] = _f_score_\n",
    "\n",
    "\n",
    "        errores[j] = classification_error(pred, Ytest)\n",
    "\n",
    "    if impresion == True:\n",
    "        skplt.metrics.plot_confusion_matrix(Ytest, pred)\n",
    "        grafica_roc(model=XG,Xtest=Xtest,Ytest=Ytest)\n",
    "\n",
    "    result={'Eficiencia':np.mean(accuracy_list),'Int_Eficiencia':np.std(accuracy_list),\n",
    "            'Sensibilidad':np.mean(recall_list),'Int_Sensibilidad':np.std(recall_list),\n",
    "            'Precisión':np.mean(precision_list),'Int Precisión':np.std(precision_list),\n",
    "            'F':np.mean(f_list),'Int_F':np.std(f_list),\n",
    "            'Error':np.mean(errores),'Int_Error':np.std(errores),\n",
    "            'Tiempo':time.time()-tiempo_i\n",
    "            }\n",
    "    return  result"
   ],
   "metadata": {
    "collapsed": false,
    "pycharm": {
     "name": "#%%\n"
    }
   }
  },
  {
   "cell_type": "markdown",
   "source": [
    "## Con 9 características"
   ],
   "metadata": {
    "collapsed": false
   }
  },
  {
   "cell_type": "code",
   "execution_count": null,
   "outputs": [],
   "source": [
    "result = model_XG(x=x_minmax9,y=y_minmax9,estimadores=100,caracteristicas= 8, impresion = True,normalize=False)"
   ],
   "metadata": {
    "collapsed": false,
    "pycharm": {
     "name": "#%%\n"
    }
   }
  },
  {
   "cell_type": "code",
   "execution_count": null,
   "outputs": [],
   "source": [
    "print(result)"
   ],
   "metadata": {
    "collapsed": false,
    "pycharm": {
     "name": "#%%\n"
    }
   }
  },
  {
   "cell_type": "code",
   "execution_count": null,
   "outputs": [],
   "source": [],
   "metadata": {
    "collapsed": false,
    "pycharm": {
     "name": "#%%\n"
    }
   }
  },
  {
   "cell_type": "code",
   "execution_count": null,
   "outputs": [],
   "source": [],
   "metadata": {
    "collapsed": false,
    "pycharm": {
     "name": "#%%\n"
    }
   }
  },
  {
   "cell_type": "markdown",
   "source": [
    "## Con 8 caracteristicas"
   ],
   "metadata": {
    "collapsed": false
   }
  },
  {
   "cell_type": "code",
   "execution_count": null,
   "outputs": [],
   "source": [
    "result2 = model_XG(x=x_minmax8,y=y_minmax8,estimadores=100,caracteristicas= 8, impresion = True,normalize=False)"
   ],
   "metadata": {
    "collapsed": false,
    "pycharm": {
     "name": "#%%\n"
    }
   }
  },
  {
   "cell_type": "code",
   "execution_count": null,
   "outputs": [],
   "source": [
    "print(result2)"
   ],
   "metadata": {
    "collapsed": false,
    "pycharm": {
     "name": "#%%\n"
    }
   }
  },
  {
   "cell_type": "code",
   "execution_count": null,
   "outputs": [],
   "source": [],
   "metadata": {
    "collapsed": false,
    "pycharm": {
     "name": "#%%\n"
    }
   }
  },
  {
   "cell_type": "code",
   "execution_count": null,
   "outputs": [],
   "source": [
    "result7 = model_XG(x=x_minmax8,y=y_minmax8,estimadores=50,caracteristicas= 8, impresion = True,normalize=False)"
   ],
   "metadata": {
    "collapsed": false,
    "pycharm": {
     "name": "#%%\n"
    }
   }
  },
  {
   "cell_type": "code",
   "execution_count": null,
   "outputs": [],
   "source": [
    "print(result7)"
   ],
   "metadata": {
    "collapsed": false,
    "pycharm": {
     "name": "#%%\n"
    }
   }
  },
  {
   "cell_type": "code",
   "execution_count": null,
   "outputs": [],
   "source": [
    "result8 = model_XG(x=x_minmax9,y=y_minmax9,estimadores=50,caracteristicas= 8, impresion = True,normalize=False)"
   ],
   "metadata": {
    "collapsed": false,
    "pycharm": {
     "name": "#%%\n"
    }
   }
  },
  {
   "cell_type": "code",
   "execution_count": null,
   "outputs": [],
   "source": [
    "print(result8)"
   ],
   "metadata": {
    "collapsed": false,
    "pycharm": {
     "name": "#%%\n"
    }
   }
  },
  {
   "cell_type": "code",
   "execution_count": null,
   "outputs": [],
   "source": [
    "# Standarscaler\n"
   ],
   "metadata": {
    "collapsed": false,
    "pycharm": {
     "name": "#%%\n"
    }
   }
  },
  {
   "cell_type": "code",
   "execution_count": null,
   "outputs": [],
   "source": [
    "y_standar9=df1['GRAVEDAD']\n",
    "x_standar9=df1.drop(['GRAVEDAD','PERIODO'],axis=1)\n",
    "y_standar8=df1['GRAVEDAD']\n",
    "x_standar8=df1.drop(['GRAVEDAD','PERIODO','COMUNA'],axis=1)"
   ],
   "metadata": {
    "collapsed": false,
    "pycharm": {
     "name": "#%%\n"
    }
   }
  },
  {
   "cell_type": "markdown",
   "source": [
    "## Con 8 características"
   ],
   "metadata": {
    "collapsed": false
   }
  },
  {
   "cell_type": "code",
   "execution_count": null,
   "outputs": [],
   "source": [
    "result3 = model_XG(x=x_standar9,y=y_standar9,estimadores=100,caracteristicas= 8, impresion = True,normalize=False)"
   ],
   "metadata": {
    "collapsed": false,
    "pycharm": {
     "name": "#%%\n"
    }
   }
  },
  {
   "cell_type": "code",
   "execution_count": null,
   "outputs": [],
   "source": [
    "print(result3)"
   ],
   "metadata": {
    "collapsed": false,
    "pycharm": {
     "name": "#%%\n"
    }
   }
  },
  {
   "cell_type": "markdown",
   "source": [
    "## Con 9 caracteristicas"
   ],
   "metadata": {
    "collapsed": false
   }
  },
  {
   "cell_type": "code",
   "execution_count": null,
   "outputs": [],
   "source": [
    "result4 = model_XG(x=x_standar9,y=y_standar9,estimadores=100,caracteristicas= 8, impresion = True,normalize=False)"
   ],
   "metadata": {
    "collapsed": false,
    "pycharm": {
     "name": "#%%\n"
    }
   }
  },
  {
   "cell_type": "code",
   "execution_count": null,
   "outputs": [],
   "source": [
    "print(result4)"
   ],
   "metadata": {
    "collapsed": false,
    "pycharm": {
     "name": "#%%\n"
    }
   }
  },
  {
   "cell_type": "code",
   "execution_count": null,
   "outputs": [],
   "source": [],
   "metadata": {
    "collapsed": false,
    "pycharm": {
     "name": "#%%\n"
    }
   }
  },
  {
   "cell_type": "code",
   "execution_count": null,
   "outputs": [],
   "source": [
    "result5 = model_XG(x=x_standar8,y=y_standar8,estimadores=50,caracteristicas= 8, impresion = True,normalize=False)"
   ],
   "metadata": {
    "collapsed": false,
    "pycharm": {
     "name": "#%%\n"
    }
   }
  },
  {
   "cell_type": "code",
   "execution_count": null,
   "outputs": [],
   "source": [
    "print(result5)"
   ],
   "metadata": {
    "collapsed": false,
    "pycharm": {
     "name": "#%%\n"
    }
   }
  },
  {
   "cell_type": "code",
   "execution_count": null,
   "outputs": [],
   "source": [
    "result6 = model_XG(x=x_standar9,y=y_standar9,estimadores=50,caracteristicas= 8, impresion = True,normalize=False)"
   ],
   "metadata": {
    "collapsed": false,
    "pycharm": {
     "name": "#%%\n"
    }
   }
  },
  {
   "cell_type": "code",
   "execution_count": null,
   "outputs": [],
   "source": [
    "print(result6)"
   ],
   "metadata": {
    "collapsed": false,
    "pycharm": {
     "name": "#%%\n"
    }
   }
  },
  {
   "cell_type": "code",
   "execution_count": null,
   "outputs": [],
   "source": [
    "def imprimir_resultados(results,medida):\n",
    "    for i in range(len(results)):\n",
    "        print(i+1,results[i][medida])"
   ],
   "metadata": {
    "collapsed": false,
    "pycharm": {
     "name": "#%%\n"
    }
   }
  },
  {
   "cell_type": "code",
   "execution_count": null,
   "outputs": [],
   "source": [
    "lista=[result,result2,result3,result4,result5,result6,result7,result8]\n",
    "len(lista)"
   ],
   "metadata": {
    "collapsed": false,
    "pycharm": {
     "name": "#%%\n"
    }
   }
  },
  {
   "cell_type": "code",
   "execution_count": null,
   "outputs": [],
   "source": [
    "imprimir_resultados(lista,'Eficiencia')"
   ],
   "metadata": {
    "collapsed": false,
    "pycharm": {
     "name": "#%%\n"
    }
   }
  },
  {
   "cell_type": "code",
   "execution_count": null,
   "outputs": [],
   "source": [
    "imprimir_resultados(lista,'Precisión')"
   ],
   "metadata": {
    "collapsed": false,
    "pycharm": {
     "name": "#%%\n"
    }
   }
  },
  {
   "cell_type": "code",
   "execution_count": null,
   "outputs": [],
   "source": [],
   "metadata": {
    "collapsed": false,
    "pycharm": {
     "name": "#%%\n"
    }
   }
  },
  {
   "cell_type": "code",
   "execution_count": null,
   "outputs": [],
   "source": [
    "XG = XGBClassifier(n_estimators=50, max_features =8, n_jobs = -1)"
   ],
   "metadata": {
    "collapsed": false,
    "pycharm": {
     "name": "#%%\n"
    }
   }
  },
  {
   "cell_type": "code",
   "execution_count": null,
   "outputs": [],
   "source": [
    "Xtrain, Xtest, Ytrain, Ytest = train_test_split(x_standar9,y_standar9, test_size=0.25) # Modificar metodología de validación\n",
    "XG.fit(Xtrain, Ytrain)"
   ],
   "metadata": {
    "collapsed": false,
    "pycharm": {
     "name": "#%%\n"
    }
   }
  },
  {
   "cell_type": "code",
   "execution_count": null,
   "outputs": [],
   "source": [
    "pred = XG.predict(Xtest)"
   ],
   "metadata": {
    "collapsed": false,
    "pycharm": {
     "name": "#%%\n"
    }
   }
  },
  {
   "cell_type": "code",
   "execution_count": null,
   "outputs": [],
   "source": [
    "_accuracy_ = accuracy_score(Ytest, pred, normalize=True)\n",
    "_precisions_ = precision_score(Ytest, pred, average=None)\n"
   ],
   "metadata": {
    "collapsed": false,
    "pycharm": {
     "name": "#%%\n"
    }
   }
  },
  {
   "cell_type": "code",
   "execution_count": null,
   "outputs": [],
   "source": [
    "print(_accuracy_,np.mean(_precisions_))"
   ],
   "metadata": {
    "collapsed": false,
    "pycharm": {
     "name": "#%%\n"
    }
   }
  },
  {
   "cell_type": "code",
   "execution_count": null,
   "outputs": [],
   "source": [
    "skplt.metrics.plot_confusion_matrix(Ytest, pred)\n",
    "grafica_roc(model=XG,Xtest=Xtest,Ytest=Ytest)"
   ],
   "metadata": {
    "collapsed": false,
    "pycharm": {
     "name": "#%%\n"
    }
   }
  },
  {
   "cell_type": "code",
   "execution_count": null,
   "outputs": [],
   "source": [],
   "metadata": {
    "collapsed": false,
    "pycharm": {
     "name": "#%%\n"
    }
   }
  },
  {
   "cell_type": "code",
   "execution_count": null,
   "outputs": [],
   "source": [],
   "metadata": {
    "collapsed": false,
    "pycharm": {
     "name": "#%%\n"
    }
   }
  },
  {
   "cell_type": "code",
   "execution_count": null,
   "outputs": [],
   "source": [],
   "metadata": {
    "collapsed": false,
    "pycharm": {
     "name": "#%%\n"
    }
   }
  },
  {
   "cell_type": "code",
   "execution_count": null,
   "outputs": [],
   "source": [],
   "metadata": {
    "collapsed": false,
    "pycharm": {
     "name": "#%%\n"
    }
   }
  },
  {
   "cell_type": "code",
   "execution_count": null,
   "outputs": [],
   "source": [],
   "metadata": {
    "collapsed": false,
    "pycharm": {
     "name": "#%%\n"
    }
   }
  },
  {
   "cell_type": "code",
   "execution_count": null,
   "outputs": [],
   "source": [
    "oversampler= sv.MulticlassOversampling(sv.distance_SMOTE(proportion=0.002))"
   ],
   "metadata": {
    "collapsed": false,
    "pycharm": {
     "name": "#%%\n"
    }
   }
  },
  {
   "cell_type": "code",
   "execution_count": null,
   "outputs": [],
   "source": [
    "x_samp, y_samp= oversampler.sample(x_standar, y_standar)\n"
   ],
   "metadata": {
    "collapsed": false,
    "pycharm": {
     "name": "#%%\n"
    }
   }
  },
  {
   "cell_type": "code",
   "execution_count": null,
   "outputs": [],
   "source": [
    "y_standar.count"
   ],
   "metadata": {
    "collapsed": false,
    "pycharm": {
     "name": "#%%\n"
    }
   }
  },
  {
   "cell_type": "code",
   "execution_count": null,
   "outputs": [],
   "source": [
    "u,indices = np.unique(y_samp,return_counts = True)\n"
   ],
   "metadata": {
    "collapsed": false,
    "pycharm": {
     "name": "#%%\n"
    }
   }
  },
  {
   "cell_type": "code",
   "execution_count": null,
   "outputs": [],
   "source": [
    "indices"
   ],
   "metadata": {
    "collapsed": false,
    "pycharm": {
     "name": "#%%\n"
    }
   }
  },
  {
   "cell_type": "code",
   "execution_count": null,
   "outputs": [],
   "source": [
    "result=model_VC(X_samp,y_samp,impresion = True)"
   ],
   "metadata": {
    "collapsed": false,
    "pycharm": {
     "name": "#%%\n"
    }
   }
  },
  {
   "cell_type": "code",
   "execution_count": null,
   "outputs": [],
   "source": [
    "y_samp."
   ],
   "metadata": {
    "collapsed": false,
    "pycharm": {
     "name": "#%%\n"
    }
   }
  },
  {
   "cell_type": "code",
   "execution_count": null,
   "outputs": [],
   "source": [
    "Xtrain, Xtest, Ytrain, Ytest = train_test_split(X_samp, y_samp, test_size=0.25)\n"
   ],
   "metadata": {
    "collapsed": false,
    "pycharm": {
     "name": "#%%\n"
    }
   }
  },
  {
   "cell_type": "code",
   "execution_count": null,
   "outputs": [],
   "source": [
    "Xtrain, Xtest, Ytrain, Ytest = train_test_split(X_samp, y_samp, test_size=0.25)\n"
   ],
   "metadata": {
    "collapsed": false,
    "pycharm": {
     "name": "#%%\n"
    }
   }
  },
  {
   "cell_type": "code",
   "execution_count": null,
   "outputs": [],
   "source": [
    "\n",
    "vc1.fit(Xtrain,Ytrain)\n",
    "vc2.fit(Xtrain,Ytrain)\n",
    "\n",
    "pred1=vc1.predict(Xtest)\n",
    "pred2=vc2.predict(Xtest)\n",
    "\n",
    "skplt.metrics.plot_confusion_matrix(Ytest, pred1,normalize=True)\n"
   ],
   "metadata": {
    "collapsed": false,
    "pycharm": {
     "name": "#%%\n"
    }
   }
  }
 ],
 "metadata": {
  "kernelspec": {
   "display_name": "PyCharm (Accident-predictor)",
   "language": "python",
   "name": "pycharm-a42563eb"
  },
  "language_info": {
   "codemirror_mode": {
    "name": "ipython",
    "version": 3
   },
   "file_extension": ".py",
   "mimetype": "text/x-python",
   "name": "python",
   "nbconvert_exporter": "python",
   "pygments_lexer": "ipython3",
   "version": "3.7.7"
  }
 },
 "nbformat": 4,
 "nbformat_minor": 1
}