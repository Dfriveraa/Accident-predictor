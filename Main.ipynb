{
 "cells": [
  {
   "cell_type": "markdown",
   "source": [
    "#### Módulo principal"
   ],
   "metadata": {
    "collapsed": false
   }
  },
  {
   "cell_type": "code",
   "execution_count": 5,
   "outputs": [],
   "source": [
    "import pandas as pd\n",
    "from sklearn.impute import SimpleImputer\n",
    "df=pd.read_csv(\"./Clean datasets/cleanData.csv\")"
   ],
   "metadata": {
    "collapsed": false,
    "pycharm": {
     "name": "#%%\n"
    }
   }
  },
  {
   "cell_type": "code",
   "execution_count": 6,
   "outputs": [
    {
     "name": "stdout",
     "output_type": "stream",
     "text": [
      "       DIA_NOMBRE  PERIODO           CLASE            DIRECCION TIPO_GEOCOD  \\\n",
      "0         DOMINGO     2017          Choque        CL 34 F CR 89  Malla vial   \n",
      "1       MIÉRCOLES     2017          Choque         CR 76 CL 104  Malla vial   \n",
      "2         DOMINGO     2017          Choque        CL 50 CR 64 B  Malla vial   \n",
      "3       MIÉRCOLES     2017          Choque  CR 51 C CL 12 B Sur  Malla vial   \n",
      "4          JUEVES     2017            Otro        CR 82 CL 42 D  Malla vial   \n",
      "...           ...      ...             ...                  ...         ...   \n",
      "113654     MARTES     2019  Caida Ocupante          CL 67 CR 54  Malla vial   \n",
      "113655    VIERNES     2019          Choque         CR 52 CL 100  Malla vial   \n",
      "113656    VIERNES     2019            Otro       CR 50 A CL 109  Malla vial   \n",
      "113657    VIERNES     2019          Choque        CL 35 CR 80 B  Malla vial   \n",
      "113658      LUNES     2019          Choque        CL 99 CR 51 A  Malla vial   \n",
      "\n",
      "          GRAVEDAD              BARRIO            COMUNA         DISENO  MES  \\\n",
      "0           HERIDO        Santa Mónica        La América  Lote o Predio    7   \n",
      "1           HERIDO            Pedregal   Doce de Octubre   Interseccion    5   \n",
      "2       SOLO DAÑOS  Carlos E. Restrepo  Laureles Estadio   Tramo de via    5   \n",
      "3       SOLO DAÑOS            Guayabal          Guayabal   Tramo de via    6   \n",
      "4           HERIDO          La América        La América   Tramo de via    6   \n",
      "...            ...                 ...               ...            ...  ...   \n",
      "113654      HERIDO         El Chagualo     La Candelaria   Tramo de via    8   \n",
      "113655      HERIDO          Santa Cruz        Santa Cruz   Tramo de via    7   \n",
      "113656      HERIDO          La Francia        Santa Cruz   Tramo de via    8   \n",
      "113657  SOLO DAÑOS         Las Acacias  Laureles Estadio   Tramo de via    7   \n",
      "113658  SOLO DAÑOS          Santa Cruz        Santa Cruz   Tramo de via    7   \n",
      "\n",
      "        DIA  \n",
      "0         2  \n",
      "1        10  \n",
      "2         7  \n",
      "3        28  \n",
      "4         8  \n",
      "...     ...  \n",
      "113654    6  \n",
      "113655    5  \n",
      "113656   23  \n",
      "113657   19  \n",
      "113658   29  \n",
      "\n",
      "[113659 rows x 11 columns]\n"
     ]
    }
   ],
   "source": [
    "print(df)"
   ],
   "metadata": {
    "collapsed": false,
    "pycharm": {
     "name": "#%%\n"
    }
   }
  },
  {
   "cell_type": "code",
   "execution_count": null,
   "outputs": [],
   "source": [
    "\n"
   ],
   "metadata": {
    "collapsed": false,
    "pycharm": {
     "name": "#%%\n"
    }
   }
  }
 ],
 "metadata": {
  "kernelspec": {
   "name": "pycharm-a42563eb",
   "language": "python",
   "display_name": "PyCharm (Accident-predictor)"
  },
  "language_info": {
   "codemirror_mode": {
    "name": "ipython",
    "version": 2
   },
   "file_extension": ".py",
   "mimetype": "text/x-python",
   "name": "python",
   "nbconvert_exporter": "python",
   "pygments_lexer": "ipython2",
   "version": "2.7.6"
  }
 },
 "nbformat": 4,
 "nbformat_minor": 0
}