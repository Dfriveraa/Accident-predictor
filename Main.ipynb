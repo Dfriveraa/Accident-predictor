{
 "cells": [
  {
   "cell_type": "markdown",
   "source": [
    "#### Módulo principal"
   ],
   "metadata": {
    "collapsed": false
   }
  },
  {
   "cell_type": "code",
   "execution_count": 3,
   "outputs": [
    {
     "name": "stdout",
     "output_type": "stream",
     "text": [
      "  DIA_NOMBRE  PERIODO   CLASE            DIRECCION TIPO_GEOCOD    GRAVEDAD  \\\n",
      "0    DOMINGO     2017  Choque        CL 34 F CR 89  Malla vial      HERIDO   \n",
      "1  MIÉRCOLES     2017  Choque         CR 76 CL 104  Malla vial      HERIDO   \n",
      "2    DOMINGO     2017  Choque        CL 50 CR 64 B  Malla vial  SOLO DAÑOS   \n",
      "3  MIÉRCOLES     2017  Choque  CR 51 C CL 12 B Sur  Malla vial  SOLO DAÑOS   \n",
      "4     JUEVES     2017    Otro        CR 82 CL 42 D  Malla vial      HERIDO   \n",
      "\n",
      "               BARRIO            COMUNA         DISENO  MES  DIA  \n",
      "0        Santa Mónica        La América  Lote o Predio    7    2  \n",
      "1            Pedregal   Doce de Octubre   Interseccion    5   10  \n",
      "2  Carlos E. Restrepo  Laureles Estadio   Tramo de via    5    7  \n",
      "3            Guayabal          Guayabal   Tramo de via    6   28  \n",
      "4          La América        La América   Tramo de via    6    8  \n"
     ]
    }
   ],
   "source": [
    "import pandas as pd\n",
    "from sklearn.preprocessing import LabelEncoder\n",
    "df=pd.read_csv(\"./Clean datasets/cleanData.csv\")\n",
    "print(df.head())"
   ],
   "metadata": {
    "collapsed": false,
    "pycharm": {
     "name": "#%%\n"
    }
   }
  },
  {
   "cell_type": "code",
   "execution_count": 9,
   "outputs": [
    {
     "name": "stdout",
     "output_type": "stream",
     "text": [
      "   DIA_NOMBRE  PERIODO  CLASE  DIRECCION  TIPO_GEOCOD  GRAVEDAD  BARRIO  \\\n",
      "0           0        0      3       3025            4         0     226   \n",
      "1           4        0      3      18519            4         0     192   \n",
      "2           0        0      3       5310            4         2      41   \n",
      "3           4        0      3      14634            4         2      98   \n",
      "4           1        0      6      19725            4         0     108   \n",
      "\n",
      "   COMUNA  DISENO  MES  DIA  \n",
      "0      37       3    6    1  \n",
      "1      23       2    4    9  \n",
      "2      47       9    4    6  \n",
      "3      32       9    5   27  \n",
      "4      37       9    5    7  \n"
     ]
    }
   ],
   "source": [
    "le = LabelEncoder()\n",
    "dfe=df.apply(le.fit_transform)\n",
    "print(dfe.head())"
   ],
   "metadata": {
    "collapsed": false,
    "pycharm": {
     "name": "#%%\n"
    }
   }
  },
  {
   "cell_type": "code",
   "execution_count": 21,
   "outputs": [
    {
     "name": "stdout",
     "output_type": "stream",
     "text": [
      "21642\n"
     ]
    }
   ],
   "source": [
    "print(dfe['DIRECCION'].unique().size)"
   ],
   "metadata": {
    "collapsed": false,
    "pycharm": {
     "name": "#%%\n"
    }
   }
  }
 ],
 "metadata": {
  "kernelspec": {
   "name": "pycharm-a42563eb",
   "language": "python",
   "display_name": "PyCharm (Accident-predictor)"
  },
  "language_info": {
   "codemirror_mode": {
    "name": "ipython",
    "version": 2
   },
   "file_extension": ".py",
   "mimetype": "text/x-python",
   "name": "python",
   "nbconvert_exporter": "python",
   "pygments_lexer": "ipython2",
   "version": "2.7.6"
  }
 },
 "nbformat": 4,
 "nbformat_minor": 0
}