{
 "cells": [
  {
   "cell_type": "markdown",
   "source": [
    "#### Módulo principal"
   ],
   "metadata": {
    "collapsed": false
   }
  },
  {
   "cell_type": "code",
   "execution_count": 49,
   "outputs": [
    {
     "name": "stdout",
     "output_type": "stream",
     "text": [
      "   DIA_NOMBRE  PERIODO           CLASE                DIRECCION  \\\n",
      "0     DOMINGO     2017          Choque            CL 34 F CR 89   \n",
      "1   MIÉRCOLES     2017          Choque             CR 76 CL 104   \n",
      "2     DOMINGO     2017          Choque            CL 50 CR 64 B   \n",
      "3   MIÉRCOLES     2017          Choque      CR 51 C CL 12 B Sur   \n",
      "4      JUEVES     2017            Otro            CR 82 CL 42 D   \n",
      "5       LUNES     2017          Choque           CR 35 A CL 101   \n",
      "6       LUNES     2017          Choque              Tv 78 CR 67   \n",
      "7      SÁBADO     2017  Caida Ocupante              CR 80 CL 41   \n",
      "8      SÁBADO     2017  Caida Ocupante  CR 50 C CL 10 Occidente   \n",
      "9      JUEVES     2017          Choque              CL 10 CR 37   \n",
      "10  MIÉRCOLES     2017          Choque              CR 48 CL 10   \n",
      "11     SÁBADO     2017            Otro              CR 52 CL 53   \n",
      "\n",
      "                   TIPO_GEOCOD    GRAVEDAD                BARRIO  \\\n",
      "0                   Malla vial      HERIDO          Santa Mónica   \n",
      "1                   Malla vial      HERIDO              Pedregal   \n",
      "2                   Malla vial  SOLO DAÑOS    Carlos E. Restrepo   \n",
      "3                   Malla vial  SOLO DAÑOS              Guayabal   \n",
      "4                   Malla vial      HERIDO            La América   \n",
      "5                   Malla vial      HERIDO             San Pablo   \n",
      "6   Malla vial cruce invertido  SOLO DAÑOS           El Progreso   \n",
      "7                   Malla vial      HERIDO  San Antonio de Prado   \n",
      "8                   Malla vial      HERIDO            Campo Amor   \n",
      "9                   Malla vial      HERIDO            El Poblado   \n",
      "10                  Malla vial  SOLO DAÑOS                Manila   \n",
      "11                  Malla vial      HERIDO         La Candelaria   \n",
      "\n",
      "                  COMUNA         DISENO  MES  DIA  \n",
      "0             La América  Lote o Predio    7    2  \n",
      "1        Doce de Octubre   Interseccion    5   10  \n",
      "2       Laureles Estadio   Tramo de via    5    7  \n",
      "3               Guayabal   Tramo de via    6   28  \n",
      "4             La América   Tramo de via    6    8  \n",
      "5                Popular   Tramo de via    7   24  \n",
      "6               Castilla   Interseccion    7   10  \n",
      "7   San Antonio de Prado   Tramo de via    6   10  \n",
      "8               Guayabal   Tramo de via    6   17  \n",
      "9             El Poblado   Tramo de via    7   27  \n",
      "10            El Poblado  Lote o Predio    5   31  \n",
      "11         La Candelaria  Lote o Predio    7    1  \n",
      "3612\n"
     ]
    }
   ],
   "source": [
    "import pandas as pd\n",
    "from sklearn.preprocessing import LabelEncoder\n",
    "df=pd.read_csv(\"./Clean datasets/cleanData.csv\")\n",
    "print(df.head(12))\n",
    "count=0\n",
    "for i in df['DIA']:\n",
    "    if i==1:\n",
    "        count=count+1\n",
    "print(count)"
   ],
   "metadata": {
    "collapsed": false,
    "pycharm": {
     "name": "#%%\n"
    }
   }
  },
  {
   "cell_type": "code",
   "execution_count": 47,
   "outputs": [
    {
     "name": "stdout",
     "output_type": "stream",
     "text": [
      "    DIA_NOMBRE  PERIODO  CLASE  DIRECCION  TIPO_GEOCOD  GRAVEDAD  BARRIO  \\\n",
      "0            0        0      3       3025            4         0     226   \n",
      "1            4        0      3      18519            4         0     192   \n",
      "2            0        0      3       5310            4         2      41   \n",
      "3            4        0      3      14634            4         2      98   \n",
      "4            1        0      6      19725            4         0     108   \n",
      "5            2        0      3      11736            4         0     218   \n",
      "6            2        0      3      21637            5         2      72   \n",
      "7            5        0      1      19277            4         0     205   \n",
      "8            5        0      1      14271            4         0      37   \n",
      "9            1        0      3        177            4         0      70   \n",
      "10           4        0      3      13791            4         2     165   \n",
      "11           5        0      6      14969            4         0     110   \n",
      "12           2        0      3       5225            4         2      34   \n",
      "13           3        0      3       5323            4         2      51   \n",
      "14           2        0      3       2803            2         2     159   \n",
      "15           3        0      3      16913            4         0     238   \n",
      "16           5        0      3      14133            4         2     191   \n",
      "17           4        0      0      12827            4         0     116   \n",
      "18           3        0      0       7419            4         0     245   \n",
      "19           6        0      3      18697            4         2      63   \n",
      "20           3        0      3      21285            4         2      54   \n",
      "21           2        0      3       5493            4         0     258   \n",
      "22           5        0      3       7812            4         2     102   \n",
      "23           5        0      3       1878            4         2     221   \n",
      "24           5        0      3        388            4         2      55   \n",
      "25           4        0      3       7247            4         0     125   \n",
      "26           4        0      3      12052            4         2      29   \n",
      "27           5        0      1      19502            4         0      88   \n",
      "28           0        0      1      19215            4         0     119   \n",
      "29           3        0      3      12965            4         2     249   \n",
      "\n",
      "    COMUNA  DISENO  MES  DIA  \n",
      "0       37       3    6    1  \n",
      "1       23       2    4    9  \n",
      "2       47       9    4    6  \n",
      "3       32       9    5   27  \n",
      "4       37       9    5    7  \n",
      "5       59       9    6   23  \n",
      "6       16       2    6    9  \n",
      "7       62       9    5    9  \n",
      "8       32       9    5   16  \n",
      "9       26       9    6   26  \n",
      "10      26       3    4   30  \n",
      "11      38       3    6    0  \n",
      "12      19       9    3   16  \n",
      "13      47       9    4    1  \n",
      "14      47       9    6   16  \n",
      "15      32       2    5   19  \n",
      "16      26       9    6    0  \n",
      "17      26       9    6    4  \n",
      "18      60       9    5   26  \n",
      "19      47       9    3   27  \n",
      "20       7       1    3   17  \n",
      "21      76       9    5   18  \n",
      "22       5       3    6    7  \n",
      "23      32       2    3    0  \n",
      "24      23       9    6   14  \n",
      "25      76       2    3    4  \n",
      "26      38       2    4    2  \n",
      "27      37       9    6   28  \n",
      "28       7       9    6    8  \n",
      "29      26       9    5   19  \n"
     ]
    },
    {
     "data": {
      "text/plain": "array([ 1,  9,  6, 27,  7, 23, 16, 26, 30,  0, 19,  4, 17, 18, 14,  2, 28,\n        8, 15, 11,  5, 20, 29, 22, 24, 13, 10, 25, 12, 21,  3])"
     },
     "execution_count": 47,
     "metadata": {},
     "output_type": "execute_result"
    }
   ],
   "source": [
    "le = LabelEncoder()\n",
    "dfe=df.apply(le.fit_transform)\n",
    "print(dfe.head(30))\n",
    "dfe['DIA'].unique()"
   ],
   "metadata": {
    "collapsed": false,
    "pycharm": {
     "name": "#%%\n"
    }
   }
  },
  {
   "cell_type": "code",
   "execution_count": 58,
   "outputs": [
    {
     "name": "stdout",
     "output_type": "stream",
     "text": [
      "0.0 DIA_NOMBRE 6.0\n",
      "0.0 PERIODO 2.0\n",
      "0.0 CLASE 6.0\n",
      "1799.0 DIRECCION 19643.0\n",
      "4.0 TIPO_GEOCOD 5.0\n",
      "0.0 GRAVEDAD 2.0\n",
      "16.0 BARRIO 245.0\n",
      "5.0 COMUNA 63.0\n",
      "2.0 DISENO 9.0\n",
      "0.0 MES 11.0\n",
      "1.0 DIA 28.0\n"
     ]
    },
    {
     "data": {
      "text/plain": "        DIA_NOMBRE  PERIODO  CLASE  DIRECCION  TIPO_GEOCOD  GRAVEDAD  BARRIO  \\\n0                0        0      3       3025            4         0     226   \n1                4        0      3      18519            4         0     192   \n2                0        0      3       5310            4         2      41   \n3                4        0      3      14634            4         2      98   \n5                2        0      3      11736            4         0     218   \n...            ...      ...    ...        ...          ...       ...     ...   \n113649           6        2      3      18792            4         0     172   \n113650           2        2      6      16593            4         0      19   \n113652           6        2      3      12706            4         2      70   \n113654           3        2      1       7398            4         0      58   \n113657           6        2      3       3082            4         2     138   \n\n        COMUNA  DISENO  MES  DIA  \n0           37       3    6    1  \n1           23       2    4    9  \n2           47       9    4    6  \n3           32       9    5   27  \n5           59       9    6   23  \n...        ...     ...  ...  ...  \n113649       7       2    7   22  \n113650      16       9    7   18  \n113652      26       9    8   19  \n113654      38       9    7    5  \n113657      47       9    6   18  \n\n[74607 rows x 11 columns]",
      "text/html": "<div>\n<style scoped>\n    .dataframe tbody tr th:only-of-type {\n        vertical-align: middle;\n    }\n\n    .dataframe tbody tr th {\n        vertical-align: top;\n    }\n\n    .dataframe thead th {\n        text-align: right;\n    }\n</style>\n<table border=\"1\" class=\"dataframe\">\n  <thead>\n    <tr style=\"text-align: right;\">\n      <th></th>\n      <th>DIA_NOMBRE</th>\n      <th>PERIODO</th>\n      <th>CLASE</th>\n      <th>DIRECCION</th>\n      <th>TIPO_GEOCOD</th>\n      <th>GRAVEDAD</th>\n      <th>BARRIO</th>\n      <th>COMUNA</th>\n      <th>DISENO</th>\n      <th>MES</th>\n      <th>DIA</th>\n    </tr>\n  </thead>\n  <tbody>\n    <tr>\n      <th>0</th>\n      <td>0</td>\n      <td>0</td>\n      <td>3</td>\n      <td>3025</td>\n      <td>4</td>\n      <td>0</td>\n      <td>226</td>\n      <td>37</td>\n      <td>3</td>\n      <td>6</td>\n      <td>1</td>\n    </tr>\n    <tr>\n      <th>1</th>\n      <td>4</td>\n      <td>0</td>\n      <td>3</td>\n      <td>18519</td>\n      <td>4</td>\n      <td>0</td>\n      <td>192</td>\n      <td>23</td>\n      <td>2</td>\n      <td>4</td>\n      <td>9</td>\n    </tr>\n    <tr>\n      <th>2</th>\n      <td>0</td>\n      <td>0</td>\n      <td>3</td>\n      <td>5310</td>\n      <td>4</td>\n      <td>2</td>\n      <td>41</td>\n      <td>47</td>\n      <td>9</td>\n      <td>4</td>\n      <td>6</td>\n    </tr>\n    <tr>\n      <th>3</th>\n      <td>4</td>\n      <td>0</td>\n      <td>3</td>\n      <td>14634</td>\n      <td>4</td>\n      <td>2</td>\n      <td>98</td>\n      <td>32</td>\n      <td>9</td>\n      <td>5</td>\n      <td>27</td>\n    </tr>\n    <tr>\n      <th>5</th>\n      <td>2</td>\n      <td>0</td>\n      <td>3</td>\n      <td>11736</td>\n      <td>4</td>\n      <td>0</td>\n      <td>218</td>\n      <td>59</td>\n      <td>9</td>\n      <td>6</td>\n      <td>23</td>\n    </tr>\n    <tr>\n      <th>...</th>\n      <td>...</td>\n      <td>...</td>\n      <td>...</td>\n      <td>...</td>\n      <td>...</td>\n      <td>...</td>\n      <td>...</td>\n      <td>...</td>\n      <td>...</td>\n      <td>...</td>\n      <td>...</td>\n    </tr>\n    <tr>\n      <th>113649</th>\n      <td>6</td>\n      <td>2</td>\n      <td>3</td>\n      <td>18792</td>\n      <td>4</td>\n      <td>0</td>\n      <td>172</td>\n      <td>7</td>\n      <td>2</td>\n      <td>7</td>\n      <td>22</td>\n    </tr>\n    <tr>\n      <th>113650</th>\n      <td>2</td>\n      <td>2</td>\n      <td>6</td>\n      <td>16593</td>\n      <td>4</td>\n      <td>0</td>\n      <td>19</td>\n      <td>16</td>\n      <td>9</td>\n      <td>7</td>\n      <td>18</td>\n    </tr>\n    <tr>\n      <th>113652</th>\n      <td>6</td>\n      <td>2</td>\n      <td>3</td>\n      <td>12706</td>\n      <td>4</td>\n      <td>2</td>\n      <td>70</td>\n      <td>26</td>\n      <td>9</td>\n      <td>8</td>\n      <td>19</td>\n    </tr>\n    <tr>\n      <th>113654</th>\n      <td>3</td>\n      <td>2</td>\n      <td>1</td>\n      <td>7398</td>\n      <td>4</td>\n      <td>0</td>\n      <td>58</td>\n      <td>38</td>\n      <td>9</td>\n      <td>7</td>\n      <td>5</td>\n    </tr>\n    <tr>\n      <th>113657</th>\n      <td>6</td>\n      <td>2</td>\n      <td>3</td>\n      <td>3082</td>\n      <td>4</td>\n      <td>2</td>\n      <td>138</td>\n      <td>47</td>\n      <td>9</td>\n      <td>6</td>\n      <td>18</td>\n    </tr>\n  </tbody>\n</table>\n<p>74607 rows × 11 columns</p>\n</div>"
     },
     "execution_count": 58,
     "metadata": {},
     "output_type": "execute_result"
    }
   ],
   "source": [
    "from pandas.api.types import is_numeric_dtype\n",
    "def remove_outlier(df):\n",
    "    low = .05\n",
    "    high = .95\n",
    "    quant_df = df.quantile([low, high])\n",
    "    for name in list(df.columns):\n",
    "        if is_numeric_dtype(df[name]):\n",
    "            print(quant_df.loc[low, name],name,quant_df.loc[high, name])\n",
    "            df = df[(df[name] >= quant_df.loc[low, name]) & (df[name] <= quant_df.loc[high, name])]\n",
    "    return df\n",
    "\n",
    "\n",
    "\n",
    "df_sinOutLiers = remove_outlier(dfe)\n",
    "datosNuevos = df_sinOutLiers.values\n",
    "df_sinOutLiers"
   ],
   "metadata": {
    "collapsed": false,
    "pycharm": {
     "name": "#%%\n"
    }
   }
  },
  {
   "cell_type": "code",
   "execution_count": 57,
   "outputs": [
    {
     "data": {
      "text/plain": "0         False\n1          True\n2         False\n3          True\n4          True\n          ...  \n113654     True\n113655     True\n113656     True\n113657     True\n113658     True\nName: DIA_NOMBRE, Length: 113659, dtype: bool"
     },
     "execution_count": 57,
     "metadata": {},
     "output_type": "execute_result"
    }
   ],
   "source": [
    "dfe['DIA_NOMBRE']>0.5"
   ],
   "metadata": {
    "collapsed": false,
    "pycharm": {
     "name": "#%%\n"
    }
   }
  },
  {
   "cell_type": "code",
   "execution_count": 27,
   "outputs": [
    {
     "data": {
      "text/plain": "array([ 2, 10,  7, 28,  8, 24, 17, 27, 31,  1, 20,  5, 18, 19, 15,  3, 29,\n        9, 16, 12,  6, 21, 30, 23, 25, 14, 11, 26, 13, 22,  4])"
     },
     "execution_count": 27,
     "metadata": {},
     "output_type": "execute_result"
    }
   ],
   "source": [
    "df['DIA'].unique()"
   ],
   "metadata": {
    "collapsed": false,
    "pycharm": {
     "name": "#%%\n"
    }
   }
  },
  {
   "cell_type": "code",
   "execution_count": 12,
   "outputs": [],
   "source": [
    "newdf=dfe.drop(['DIRECCION'],axis=1)"
   ],
   "metadata": {
    "collapsed": false,
    "pycharm": {
     "name": "#%%\n"
    }
   }
  },
  {
   "cell_type": "code",
   "execution_count": 15,
   "outputs": [
    {
     "data": {
      "text/plain": "        DIA_NOMBRE  PERIODO  CLASE  TIPO_GEOCOD  GRAVEDAD  BARRIO  COMUNA  \\\n0                0        0      3            4         0     226      37   \n1                4        0      3            4         0     192      23   \n2                0        0      3            4         2      41      47   \n3                4        0      3            4         2      98      32   \n4                1        0      6            4         0     108      37   \n...            ...      ...    ...          ...       ...     ...     ...   \n113650           2        2      6            4         0      19      16   \n113652           6        2      3            4         2      70      26   \n113653           2        2      0            4         0     115      37   \n113654           3        2      1            4         0      58      38   \n113657           6        2      3            4         2     138      47   \n\n        DISENO  MES  DIA  \n0            3    6    1  \n1            2    4    9  \n2            9    4    6  \n3            9    5   27  \n4            9    5    7  \n...        ...  ...  ...  \n113650       9    7   18  \n113652       9    8   19  \n113653       9    7   11  \n113654       9    7    5  \n113657       9    6   18  \n\n[82809 rows x 10 columns]",
      "text/html": "<div>\n<style scoped>\n    .dataframe tbody tr th:only-of-type {\n        vertical-align: middle;\n    }\n\n    .dataframe tbody tr th {\n        vertical-align: top;\n    }\n\n    .dataframe thead th {\n        text-align: right;\n    }\n</style>\n<table border=\"1\" class=\"dataframe\">\n  <thead>\n    <tr style=\"text-align: right;\">\n      <th></th>\n      <th>DIA_NOMBRE</th>\n      <th>PERIODO</th>\n      <th>CLASE</th>\n      <th>TIPO_GEOCOD</th>\n      <th>GRAVEDAD</th>\n      <th>BARRIO</th>\n      <th>COMUNA</th>\n      <th>DISENO</th>\n      <th>MES</th>\n      <th>DIA</th>\n    </tr>\n  </thead>\n  <tbody>\n    <tr>\n      <th>0</th>\n      <td>0</td>\n      <td>0</td>\n      <td>3</td>\n      <td>4</td>\n      <td>0</td>\n      <td>226</td>\n      <td>37</td>\n      <td>3</td>\n      <td>6</td>\n      <td>1</td>\n    </tr>\n    <tr>\n      <th>1</th>\n      <td>4</td>\n      <td>0</td>\n      <td>3</td>\n      <td>4</td>\n      <td>0</td>\n      <td>192</td>\n      <td>23</td>\n      <td>2</td>\n      <td>4</td>\n      <td>9</td>\n    </tr>\n    <tr>\n      <th>2</th>\n      <td>0</td>\n      <td>0</td>\n      <td>3</td>\n      <td>4</td>\n      <td>2</td>\n      <td>41</td>\n      <td>47</td>\n      <td>9</td>\n      <td>4</td>\n      <td>6</td>\n    </tr>\n    <tr>\n      <th>3</th>\n      <td>4</td>\n      <td>0</td>\n      <td>3</td>\n      <td>4</td>\n      <td>2</td>\n      <td>98</td>\n      <td>32</td>\n      <td>9</td>\n      <td>5</td>\n      <td>27</td>\n    </tr>\n    <tr>\n      <th>4</th>\n      <td>1</td>\n      <td>0</td>\n      <td>6</td>\n      <td>4</td>\n      <td>0</td>\n      <td>108</td>\n      <td>37</td>\n      <td>9</td>\n      <td>5</td>\n      <td>7</td>\n    </tr>\n    <tr>\n      <th>...</th>\n      <td>...</td>\n      <td>...</td>\n      <td>...</td>\n      <td>...</td>\n      <td>...</td>\n      <td>...</td>\n      <td>...</td>\n      <td>...</td>\n      <td>...</td>\n      <td>...</td>\n    </tr>\n    <tr>\n      <th>113650</th>\n      <td>2</td>\n      <td>2</td>\n      <td>6</td>\n      <td>4</td>\n      <td>0</td>\n      <td>19</td>\n      <td>16</td>\n      <td>9</td>\n      <td>7</td>\n      <td>18</td>\n    </tr>\n    <tr>\n      <th>113652</th>\n      <td>6</td>\n      <td>2</td>\n      <td>3</td>\n      <td>4</td>\n      <td>2</td>\n      <td>70</td>\n      <td>26</td>\n      <td>9</td>\n      <td>8</td>\n      <td>19</td>\n    </tr>\n    <tr>\n      <th>113653</th>\n      <td>2</td>\n      <td>2</td>\n      <td>0</td>\n      <td>4</td>\n      <td>0</td>\n      <td>115</td>\n      <td>37</td>\n      <td>9</td>\n      <td>7</td>\n      <td>11</td>\n    </tr>\n    <tr>\n      <th>113654</th>\n      <td>3</td>\n      <td>2</td>\n      <td>1</td>\n      <td>4</td>\n      <td>0</td>\n      <td>58</td>\n      <td>38</td>\n      <td>9</td>\n      <td>7</td>\n      <td>5</td>\n    </tr>\n    <tr>\n      <th>113657</th>\n      <td>6</td>\n      <td>2</td>\n      <td>3</td>\n      <td>4</td>\n      <td>2</td>\n      <td>138</td>\n      <td>47</td>\n      <td>9</td>\n      <td>6</td>\n      <td>18</td>\n    </tr>\n  </tbody>\n</table>\n<p>82809 rows × 10 columns</p>\n</div>"
     },
     "execution_count": 15,
     "metadata": {},
     "output_type": "execute_result"
    }
   ],
   "source": [
    "df_sinOutLiers = remove_outlier(newdf)\n",
    "datosNuevos = df_sinOutLiers.values\n",
    "df_sinOutLiers['']"
   ],
   "metadata": {
    "collapsed": false,
    "pycharm": {
     "name": "#%%\n"
    }
   }
  },
  {
   "cell_type": "code",
   "execution_count": 43,
   "outputs": [
    {
     "data": {
      "text/plain": "array([ 1,  9,  6, 27, 23, 16, 19,  4, 26,  7,  2, 28,  8, 15, 18, 11,  5,\n       20, 14, 22, 17, 13, 10, 24, 12, 25, 21,  3])"
     },
     "execution_count": 43,
     "metadata": {},
     "output_type": "execute_result"
    }
   ],
   "source": [
    "df_sinOutLiers['DIA'].unique()\n"
   ],
   "metadata": {
    "collapsed": false,
    "pycharm": {
     "name": "#%%\n"
    }
   }
  },
  {
   "cell_type": "code",
   "execution_count": 46,
   "outputs": [
    {
     "name": "stdout",
     "output_type": "stream",
     "text": [
      "[ 1  2  3  4  5  6  7  8  9 10 11 12 13 14 15 16 17 18 19 20 21 22 23 24\n",
      " 25 26 27 28 29 30 31]\n"
     ]
    }
   ],
   "source": [
    "la = LabelEncoder()\n",
    "la.fit(df['DIA'])\n",
    "print(la.classes_)\n",
    "# dfe=df['CLASE'].apply(la.fit())\n",
    "# print(dfe.head())"
   ],
   "metadata": {
    "collapsed": false,
    "pycharm": {
     "name": "#%%\n"
    }
   }
  }
 ],
 "metadata": {
  "kernelspec": {
   "name": "pycharm-a42563eb",
   "language": "python",
   "display_name": "PyCharm (Accident-predictor)"
  },
  "language_info": {
   "codemirror_mode": {
    "name": "ipython",
    "version": 2
   },
   "file_extension": ".py",
   "mimetype": "text/x-python",
   "name": "python",
   "nbconvert_exporter": "python",
   "pygments_lexer": "ipython2",
   "version": "2.7.6"
  }
 },
 "nbformat": 4,
 "nbformat_minor": 0
}